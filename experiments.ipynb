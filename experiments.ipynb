{
 "cells": [
  {
   "cell_type": "code",
   "execution_count": 5,
   "metadata": {},
   "outputs": [
    {
     "name": "stdout",
     "output_type": "stream",
     "text": [
      "Note: you may need to restart the kernel to use updated packages.\n"
     ]
    },
    {
     "name": "stderr",
     "output_type": "stream",
     "text": [
      "ERROR: Could not find a version that satisfies the requirement TweetNormalizer (from versions: none)\n",
      "ERROR: No matching distribution found for TweetNormalizer\n"
     ]
    }
   ],
   "source": [
    "# %pip install transformers\n",
    "# %pip install torch\n",
    "# %pip install emoji==0.6.0\n",
    "%pip install TweetNormalizer"
   ]
  },
  {
   "cell_type": "code",
   "execution_count": 1,
   "metadata": {},
   "outputs": [
    {
     "name": "stderr",
     "output_type": "stream",
     "text": [
      "c:\\Users\\Administrator\\Repositories\\GreenSecurity-FirstExperiment\\.conda\\lib\\site-packages\\tqdm\\auto.py:22: TqdmWarning: IProgress not found. Please update jupyter and ipywidgets. See https://ipywidgets.readthedocs.io/en/stable/user_install.html\n",
      "  from .autonotebook import tqdm as notebook_tqdm\n"
     ]
    }
   ],
   "source": [
    "from transformers import AutoTokenizer, AutoModelForTokenClassification\n",
    "from TweetNormalizer import normalizeTweet\n",
    "import torch"
   ]
  },
  {
   "cell_type": "markdown",
   "metadata": {},
   "source": []
  },
  {
   "cell_type": "code",
   "execution_count": 2,
   "metadata": {},
   "outputs": [],
   "source": [
    "\n",
    "tokenizer = AutoTokenizer.from_pretrained(\"TweebankNLP/bertweet-tb2_ewt-pos-tagging\")\n",
    "\n",
    "pos_tagging_model = AutoModelForTokenClassification.from_pretrained(\"TweebankNLP/bertweet-tb2_ewt-pos-tagging\")"
   ]
  },
  {
   "cell_type": "code",
   "execution_count": 3,
   "metadata": {},
   "outputs": [],
   "source": [
    "def pos_tagging(text):    \n",
    "    line = normalizeTweet(text)\n",
    "    print(line)\n",
    "    input_ids = torch.tensor([tokenizer.encode(line)])\n",
    "    logits = pos_tagging_model(input_ids).logits\n",
    "    predicted_class_id = logits.argmax(dim=2)\n",
    "    tags = [pos_tagging_model.config.id2label[x.item()] for x in predicted_class_id[0]]\n",
    "    return tags"
   ]
  },
  {
   "cell_type": "code",
   "execution_count": 6,
   "metadata": {},
   "outputs": [
    {
     "name": "stdout",
     "output_type": "stream",
     "text": [
      "blacks ? They sure grow up ugly in the northwest ! ! !\n"
     ]
    },
    {
     "data": {
      "text/plain": [
       "['NOUN',\n",
       " 'PUNCT',\n",
       " 'PRON',\n",
       " 'ADV',\n",
       " 'VERB',\n",
       " 'ADP',\n",
       " 'ADJ',\n",
       " 'ADP',\n",
       " 'DET',\n",
       " 'NOUN',\n",
       " 'PUNCT',\n",
       " 'PUNCT',\n",
       " 'PUNCT',\n",
       " 'PUNCT']"
      ]
     },
     "execution_count": 6,
     "metadata": {},
     "output_type": "execute_result"
    }
   ],
   "source": [
    "pos_tagging(\"blacks? They sure grow up ugly in the northwest!!!\")[1:]"
   ]
  },
  {
   "cell_type": "code",
   "execution_count": null,
   "metadata": {},
   "outputs": [],
   "source": []
  }
 ],
 "metadata": {
  "kernelspec": {
   "display_name": "Python 3.10.8",
   "language": "python",
   "name": "python3"
  },
  "language_info": {
   "codemirror_mode": {
    "name": "ipython",
    "version": 3
   },
   "file_extension": ".py",
   "mimetype": "text/x-python",
   "name": "python",
   "nbconvert_exporter": "python",
   "pygments_lexer": "ipython3",
   "version": "3.10.8 | packaged by conda-forge | (main, Nov  4 2022, 13:42:51) [MSC v.1916 64 bit (AMD64)]"
  },
  "orig_nbformat": 4,
  "vscode": {
   "interpreter": {
    "hash": "9596430677f980318f03c286a56e08afff504ebd1ea48afc7d8c2a417d941c92"
   }
  }
 },
 "nbformat": 4,
 "nbformat_minor": 2
}
