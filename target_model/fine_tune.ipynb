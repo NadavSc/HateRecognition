{
 "cells": [
  {
   "cell_type": "code",
   "execution_count": 2,
   "metadata": {
    "pycharm": {
     "is_executing": true,
     "name": "#%%\n"
    }
   },
   "outputs": [],
   "source": [
    "import gc\n",
    "import torch\n",
    "from torch.utils.data import TensorDataset, DataLoader, RandomSampler, SequentialSampler\n",
    "from transformers import BertTokenizer, BertForSequenceClassification, BertConfig\n",
    "from sklearn.model_selection import train_test_split\n",
    "from collections import Counter\n",
    "import pandas as pd\n",
    "import numpy as np\n",
    "import json\n",
    "from tabulate import tabulate\n",
    "from tqdm import trange\n",
    "import random\n",
    "import seaborn as sns\n",
    "from sklearn.metrics import classification_report, recall_score,precision_score , f1_score, accuracy_score\n",
    "import sys\n",
    "# sys.path.append(\"HateRecognition/target_model/\")\n",
    "from utils import preprocessing, load_anno_data, data_loader, define_target, create_model,get_translated_text,evaluate,forward_pass\n",
    "from bertopic import BERTopic\n",
    "from sklearn import preprocessing as pr\n",
    "from sklearn.feature_extraction.text import CountVectorizer\n",
    "from umap import UMAP\n",
    "from sklearn.model_selection import StratifiedKFold\n",
    "from hdbscan import HDBSCAN\n",
    "from sklearn.metrics import confusion_matrix\n",
    "sys.path.append(r\"/sise/home/shouei/HateRecognition/target_model/TopicTuner/\")\n",
    "from topictuner import TopicModelTuner as TMT\n",
    "# torch.cuda.empty_cache()\n"
   ]
  },
  {
   "cell_type": "code",
   "execution_count": 111,
   "metadata": {},
   "outputs": [],
   "source": [
    "langs = [\"english\",\"spanish\",\"german\",\"franch\",\"russian\",\"chinese\"]\n",
    "file_name = \"hatexplain_bt_melted\"\n",
    "device = torch.device('cuda' if torch.cuda.is_available() else 'cpu')\n",
    "with_topic = False"
   ]
  },
  {
   "cell_type": "code",
   "execution_count": 85,
   "metadata": {},
   "outputs": [
    {
     "data": {
      "text/plain": [
       "device(type='cuda')"
      ]
     },
     "execution_count": 85,
     "metadata": {},
     "output_type": "execute_result"
    }
   ],
   "source": [
    "device"
   ]
  },
  {
   "cell_type": "code",
   "execution_count": 86,
   "metadata": {
    "pycharm": {
     "is_executing": true,
     "name": "#%%\n"
    }
   },
   "outputs": [],
   "source": [
    "df = pd.read_csv(f'../data/ready_data/{file_name}.csv')"
   ]
  },
  {
   "cell_type": "code",
   "execution_count": 87,
   "metadata": {},
   "outputs": [
    {
     "data": {
      "text/plain": [
       "Unnamed: 0    0\n",
       "id            0\n",
       "target        0\n",
       "lang          0\n",
       "text          0\n",
       "dtype: int64"
      ]
     },
     "execution_count": 87,
     "metadata": {},
     "output_type": "execute_result"
    }
   ],
   "source": [
    "df.isna().sum()"
   ]
  },
  {
   "cell_type": "code",
   "execution_count": 88,
   "metadata": {},
   "outputs": [],
   "source": [
    "# df.rename(columns={\"Unnamed: 0\":\"id\"}, inplace=True)"
   ]
  },
  {
   "cell_type": "code",
   "execution_count": 89,
   "metadata": {
    "pycharm": {
     "name": "#%%\n"
    }
   },
   "outputs": [
    {
     "name": "stdout",
     "output_type": "stream",
     "text": [
      "['other' 'Jewish' 'African' 'Islam' 'Homosexual']\n"
     ]
    }
   ],
   "source": [
    "le = pr.LabelEncoder()\n",
    "if file_name.endswith(\"_bt\"):\n",
    "    text = [get_translated_text(x,langs) for i,x in df.iterrows()]\n",
    "else:\n",
    "    text = df.text\n",
    "print(df.target.unique())\n",
    "labels = le.fit_transform(df.target.values)\n",
    "unique_labels= list(set(labels))\n",
    "num_labels= len(unique_labels)"
   ]
  },
  {
   "cell_type": "code",
   "execution_count": 90,
   "metadata": {},
   "outputs": [
    {
     "data": {
      "text/plain": [
       "array([0, 1, 2, 3, 4])"
      ]
     },
     "execution_count": 90,
     "metadata": {},
     "output_type": "execute_result"
    }
   ],
   "source": [
    "le.transform(['African', 'Homosexual', 'Islam', 'Jewish', 'other'])"
   ]
  },
  {
   "cell_type": "code",
   "execution_count": 112,
   "metadata": {
    "pycharm": {
     "name": "#%%\n"
    }
   },
   "outputs": [],
   "source": [
    "topic_model = None\n",
    "if with_topic:\n",
    "    topic_model = BERTopic.load('../target_model/models/topic_model_with_other')\n",
    "    topics, probs = topic_model.transform(text)\n",
    "    df['topic'] = topics\n",
    "    df.topic.hist()"
   ]
  },
  {
   "cell_type": "code",
   "execution_count": 92,
   "metadata": {
    "pycharm": {
     "is_executing": true,
     "name": "#%%\n"
    }
   },
   "outputs": [
    {
     "data": {
      "text/plain": [
       "Counter({4: 5985, 3: 6115, 0: 11515, 2: 7687, 1: 2942})"
      ]
     },
     "execution_count": 92,
     "metadata": {},
     "output_type": "execute_result"
    }
   ],
   "source": [
    "Counter(labels.tolist())"
   ]
  },
  {
   "cell_type": "code",
   "execution_count": 93,
   "metadata": {
    "pycharm": {
     "name": "#%%\n"
    }
   },
   "outputs": [],
   "source": [
    "tokenizer = BertTokenizer.from_pretrained(\n",
    "    'bert-base-uncased',\n",
    "    do_lower_case = True,\n",
    "    truncation=True\n",
    "    )"
   ]
  },
  {
   "cell_type": "code",
   "execution_count": 113,
   "metadata": {},
   "outputs": [
    {
     "name": "stdout",
     "output_type": "stream",
     "text": [
      "123\n"
     ]
    }
   ],
   "source": [
    "token_id = []\n",
    "attention_masks = []\n",
    "MAX_LEN = min(max([len(x.split()) for x in text]),512)\n",
    "print(MAX_LEN)\n",
    "encoding_dict = preprocessing(text,tokenizer, MAX_LEN, topic_model)\n",
    "token_id = encoding_dict['input_ids']\n",
    "attention_masks = encoding_dict['attention_mask']\n",
    "labels = torch.tensor(labels)"
   ]
  },
  {
   "cell_type": "code",
   "execution_count": 95,
   "metadata": {},
   "outputs": [],
   "source": [
    "# df = df.iloc[:,1:]"
   ]
  },
  {
   "cell_type": "code",
   "execution_count": 96,
   "metadata": {},
   "outputs": [],
   "source": [
    "tmp_df = df[['id','target']].groupby(['id','target']).count().reset_index()"
   ]
  },
  {
   "cell_type": "code",
   "execution_count": 114,
   "metadata": {
    "pycharm": {
     "name": "#%%\n"
    }
   },
   "outputs": [],
   "source": [
    "n=5\n",
    "seed = 42\n",
    "kf = StratifiedKFold(n_splits=n, random_state=seed, shuffle=True)\n",
    "is_kf = False\n",
    "val_ratio = 0.2\n",
    "# Recommended batch size: 16, 32. See: https://arxiv.org/pdf/1810.04805.pdf\n",
    "batch_size = 16\n",
    "# Indices of the train and validation splits stratified by labels\n",
    "train_idx, val_idx = train_test_split(\n",
    "    tmp_df.id,\n",
    "    test_size = val_ratio,\n",
    "    shuffle = True,\n",
    "    stratify = tmp_df.target)\n",
    "if is_kf:\n",
    "    split_range = kf.split(text, labels)\n",
    "else:\n",
    "    split_range = [(train_idx, val_idx)]\n"
   ]
  },
  {
   "cell_type": "code",
   "execution_count": 115,
   "metadata": {},
   "outputs": [],
   "source": [
    "# !nvidia-smi\n",
    "# print(torch.cuda.memory_summary(device=None, abbreviated=False))"
   ]
  },
  {
   "cell_type": "code",
   "execution_count": 116,
   "metadata": {},
   "outputs": [],
   "source": [
    "train_idx = df[df.id.isin(train_idx)].index\n",
    "val_idx = df[(df.id.isin(val_idx))&(df.lang.str.startswith('en'))].index\n",
    "split_range = [(train_idx, val_idx)]"
   ]
  },
  {
   "cell_type": "code",
   "execution_count": 117,
   "metadata": {},
   "outputs": [],
   "source": [
    "torch.cuda.empty_cache()\n",
    "gc.collect()\n",
    "torch.cuda.empty_cache()"
   ]
  },
  {
   "cell_type": "code",
   "execution_count": 118,
   "metadata": {},
   "outputs": [
    {
     "name": "stdout",
     "output_type": "stream",
     "text": [
      "cuda\n"
     ]
    },
    {
     "name": "stderr",
     "output_type": "stream",
     "text": [
      "Some weights of the model checkpoint at bert-base-uncased were not used when initializing BertForSequenceClassification: ['cls.predictions.transform.dense.bias', 'cls.seq_relationship.bias', 'cls.predictions.decoder.weight', 'cls.predictions.bias', 'cls.predictions.transform.LayerNorm.weight', 'cls.predictions.transform.dense.weight', 'cls.predictions.transform.LayerNorm.bias', 'cls.seq_relationship.weight']\n",
      "- This IS expected if you are initializing BertForSequenceClassification from the checkpoint of a model trained on another task or with another architecture (e.g. initializing a BertForSequenceClassification model from a BertForPreTraining model).\n",
      "- This IS NOT expected if you are initializing BertForSequenceClassification from the checkpoint of a model that you expect to be exactly identical (initializing a BertForSequenceClassification model from a BertForSequenceClassification model).\n",
      "Some weights of BertForSequenceClassification were not initialized from the model checkpoint at bert-base-uncased and are newly initialized: ['classifier.bias', 'classifier.weight']\n",
      "You should probably TRAIN this model on a down-stream task to be able to use it for predictions and inference.\n",
      "Epoch:  12%|█▎        | 1/8 [02:44<19:14, 164.89s/it]"
     ]
    },
    {
     "name": "stdout",
     "output_type": "stream",
     "text": [
      "Epoch 1:\n",
      "train evaluation\n",
      "loss = 0.768 accuracy = 0.723, precision = 0.724, recall = 0.683, f1 = 0.699\n",
      "val evaluation\n",
      "loss = 0.454 accuracy = 0.854, precision = 0.848, recall = 0.827, f1 = 0.834\n",
      "\n"
     ]
    },
    {
     "name": "stderr",
     "output_type": "stream",
     "text": [
      "Epoch:  25%|██▌       | 2/8 [05:25<16:14, 162.36s/it]"
     ]
    },
    {
     "name": "stdout",
     "output_type": "stream",
     "text": [
      "Epoch 2:\n",
      "train evaluation\n",
      "loss = 0.448 accuracy = 0.852, precision = 0.843, recall = 0.835, f1 = 0.839\n",
      "val evaluation\n",
      "loss = 0.467 accuracy = 0.854, precision = 0.842, recall = 0.833, f1 = 0.836\n",
      "\n"
     ]
    },
    {
     "name": "stderr",
     "output_type": "stream",
     "text": [
      "Epoch:  25%|██▌       | 2/8 [07:56<23:50, 238.48s/it]"
     ]
    },
    {
     "name": "stdout",
     "output_type": "stream",
     "text": [
      "Epoch 3:\n",
      "train evaluation\n",
      "loss = 0.307 accuracy = 0.901, precision = 0.896, recall = 0.888, f1 = 0.892\n",
      "val evaluation\n",
      "loss = 0.525 accuracy = 0.843, precision = 0.825, recall = 0.825, f1 = 0.825\n",
      "\n",
      "Early stopped\n"
     ]
    },
    {
     "name": "stderr",
     "output_type": "stream",
     "text": [
      "\n"
     ]
    }
   ],
   "source": [
    "epochs = 8\n",
    "device = torch.device('cuda' if torch.cuda.is_available() else 'cpu')\n",
    "print(device)\n",
    "best_eval_acc = 0\n",
    "threshold = 0.01\n",
    "update_model_at_eval = False\n",
    "for train_idx, val_idx in split_range:\n",
    "    torch.cuda.empty_cache()\n",
    "    gc.collect()\n",
    "    model, optimizer = create_model(num_labels)\n",
    "    model = model.to(device)\n",
    "    train_dataloader, validation_dataloader = data_loader(token_id, attention_masks, labels, train_idx, val_idx, batch_size)\n",
    "    accuracy_scores = {'train':[], 'val':[]}\n",
    "    losses_scores = {'train':[], 'val':[]}\n",
    "    for epoch in trange(epochs, desc = 'Epoch'):\n",
    "        # ========== Training ==========\n",
    "        # Set model to training mode\n",
    "        model.train()\n",
    "        # Tracking variables\n",
    "        tr_loss = 0\n",
    "        nb_tr_examples, nb_tr_steps = 0, 0\n",
    "        # Tracking variables \n",
    "        true_labels = []\n",
    "        pred_labels = []\n",
    "        tr_loss, true_labels, pred_labels, nb_tr_examples, nb_tr_steps, model = forward_pass(train_dataloader, model, optimizer=optimizer)\n",
    "        train_evaluation_text = evaluate(tr_loss,true_labels, pred_labels, losses_scores, accuracy_scores, nb_tr_steps, 'train')\n",
    "\n",
    "        # ========== Validation ==========\n",
    "        # Set model to evaluation mode\n",
    "        model.eval()\n",
    "        # Tracking variables\n",
    "        eval_loss, nb_eval_examples, nb_eval_steps = 0, 0, 0\n",
    "        true_labels = []\n",
    "        pred_labels = []\n",
    "        if update_model_at_eval:\n",
    "                eval_loss, true_labels, pred_labels, nb_eval_examples, nb_eval_steps, model = forward_pass(validation_dataloader,model, optimizer=optimizer)\n",
    "        else:\n",
    "                # Evaluate data for one epoch\n",
    "                eval_loss, true_labels, pred_labels, nb_eval_examples, nb_eval_steps, model = forward_pass(validation_dataloader, model, evaluation=True)\n",
    "        curr_acc = accuracy_score(true_labels, pred_labels)            \n",
    "        print(f\"Epoch {epoch+1}:\\n\"+train_evaluation_text+evaluate(eval_loss,true_labels, pred_labels, losses_scores, accuracy_scores, nb_eval_steps, 'val'))\n",
    "        if curr_acc > best_eval_acc:\n",
    "            best_eval_acc = curr_acc\n",
    "        elif curr_acc < best_eval_acc - threshold:\n",
    "            print(\"Early stopped\")\n",
    "            break\n",
    "        "
   ]
  },
  {
   "cell_type": "code",
   "execution_count": 119,
   "metadata": {},
   "outputs": [
    {
     "data": {
      "text/plain": [
       "False"
      ]
     },
     "execution_count": 119,
     "metadata": {},
     "output_type": "execute_result"
    }
   ],
   "source": [
    "with_topic"
   ]
  },
  {
   "cell_type": "code",
   "execution_count": 120,
   "metadata": {},
   "outputs": [],
   "source": [
    "if with_topic:\n",
    "    model.save_pretrained(f'models/finetune_topic_other_{file_name}')\n",
    "else:\n",
    "    model.save_pretrained(f'models/finetune_plain_{file_name}')    "
   ]
  },
  {
   "cell_type": "code",
   "execution_count": 121,
   "metadata": {},
   "outputs": [
    {
     "data": {
      "image/png": "[encoded data removed]",
      "text/plain": [
       "<Figure size 640x480 with 2 Axes>"
      ]
     },
     "metadata": {},
     "output_type": "display_data"
    }
   ],
   "source": [
    "cf_matrix = confusion_matrix(le.inverse_transform(true_labels), le.inverse_transform(pred_labels), labels=le.classes_)\n",
    "cf_matrix = pd.DataFrame(cf_matrix, columns=le.classes_, index=le.classes_)\n",
    "import matplotlib.pyplot as plt  \n",
    "ax= plt.subplot()\n",
    "sns.heatmap(cf_matrix/np.sum(cf_matrix, axis=1), annot=True, ax=ax)\n",
    "ax.set_xlabel('Predicted labels');ax.set_ylabel('True labels'); "
   ]
  },
  {
   "cell_type": "code",
   "execution_count": 122,
   "metadata": {},
   "outputs": [
    {
     "data": {
      "text/plain": [
       "1147"
      ]
     },
     "execution_count": 122,
     "metadata": {},
     "output_type": "execute_result"
    }
   ],
   "source": [
    "len(true_labels)"
   ]
  },
  {
   "cell_type": "code",
   "execution_count": 123,
   "metadata": {},
   "outputs": [
    {
     "data": {
      "text/plain": [
       "0.8430688753269399"
      ]
     },
     "execution_count": 123,
     "metadata": {},
     "output_type": "execute_result"
    }
   ],
   "source": [
    "sum([true_labels[i]==pred_labels[i] for i in range(len(true_labels))])/len(true_labels)"
   ]
  },
  {
   "cell_type": "code",
   "execution_count": 124,
   "metadata": {},
   "outputs": [],
   "source": [
    "# pd.DataFrame(results, columns=['tr_acc', 'val_acc']).mean(axis=0)"
   ]
  },
  {
   "cell_type": "code",
   "execution_count": 125,
   "metadata": {
    "pycharm": {
     "name": "#%%\n"
    }
   },
   "outputs": [
    {
     "data": {
      "image/png": "[encoded data removed]",
      "text/plain": [
       "<Figure size 700x500 with 2 Axes>"
      ]
     },
     "metadata": {},
     "output_type": "display_data"
    }
   ],
   "source": [
    "fig, axes = plt.subplots(nrows=1, ncols=2)\n",
    "pd.DataFrame(losses_scores).plot(title='Loss',figsize=(7,5),xlabel='Epoch', ylabel='Loss', ax=axes[0])\n",
    "pd.DataFrame(accuracy_scores).plot(title='Accuracy',figsize=(7,5),xlabel='Epoch', ylabel='Accuracy',ax=axes[1])\n",
    "plt.tight_layout()\n",
    "plt.savefig(f'loss_acc_curve_{file_name}_with topic={str(with_topic)}.png', dpi=400)"
   ]
  },
  {
   "cell_type": "code",
   "execution_count": 58,
   "metadata": {},
   "outputs": [
    {
     "data": {
      "text/plain": [
       "4282"
      ]
     },
     "execution_count": 58,
     "metadata": {},
     "output_type": "execute_result"
    }
   ],
   "source": [
    "len(df.iloc[val_idx].id.unique())"
   ]
  },
  {
   "cell_type": "code",
   "execution_count": null,
   "metadata": {},
   "outputs": [],
   "source": []
  }
 ],
 "metadata": {
  "kernelspec": {
   "display_name": "bert2vec",
   "language": "python",
   "name": "bert2vec"
  },
  "language_info": {
   "codemirror_mode": {
    "name": "ipython",
    "version": 3
   },
   "file_extension": ".py",
   "mimetype": "text/x-python",
   "name": "python",
   "nbconvert_exporter": "python",
   "pygments_lexer": "ipython3",
   "version": "3.8.12"
  },
  "vscode": {
   "interpreter": {
    "hash": "2bf672514722649c087606e81e119605c1cc4764f9792a89fd7dcda5a6b35db6"
   }
  }
 },
 "nbformat": 4,
 "nbformat_minor": 4
}
