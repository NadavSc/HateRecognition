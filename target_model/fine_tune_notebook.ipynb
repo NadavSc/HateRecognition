{
 "cells": [
  {
   "cell_type": "code",
   "execution_count": 1,
   "metadata": {
    "pycharm": {
     "is_executing": true,
     "name": "#%%\n"
    }
   },
   "outputs": [],
   "source": [
    "\n",
    "import torch\n",
    "from torch.utils.data import TensorDataset, DataLoader, RandomSampler, SequentialSampler\n",
    "from transformers import BertTokenizer, BertForSequenceClassification\n",
    "from sklearn.model_selection import train_test_split\n",
    "from collections import Counter\n",
    "from sklearn import preprocessing\n",
    "import pandas as pd\n",
    "import numpy as np\n",
    "import json\n",
    "from tabulate import tabulate\n",
    "from tqdm import trange\n",
    "import random\n",
    "from sklearn.metrics import classification_report, recall_score,precision_score , f1_score, accuracy_score\n",
    "from utils import load_anno_data\n",
    "from bertopic import BERTopic\n",
    "from TopicTuner.topictuner import TopicModelTuner as TMT\n",
    "from sklearn.feature_extraction.text import CountVectorizer\n",
    "from umap import UMAP\n",
    "from sklearn.model_selection import StratifiedKFold\n",
    "from hdbscan import HDBSCAN\n",
    "# torch.cuda.empty_cache()\n"
   ]
  },
  {
   "cell_type": "code",
   "execution_count": 24,
   "metadata": {
    "pycharm": {
     "is_executing": true,
     "name": "#%%\n"
    }
   },
   "outputs": [],
   "source": [
    "\n",
    "\n",
    "\n",
    "# df = load_anno_data()\n",
    "df = pd.read_csv('../data/annotated_target_topic_data.csv')\n",
    "hate_df = df[df['label']=='hatespeech'].reset_index()\n",
    "# docs = [' '.join(x) for x in df.tokens.values]\n",
    "# hate_df = hate_df[hate_df['target'].isin({'Asian', 'Other', 'None', 'Women', 'Hispanic'})]\n",
    "hate_df[hate_df['target']=='Arab']['target'] = 'Islam'\n",
    "labels_counter = Counter(hate_df.target.tolist())\n",
    "# hate_df[~hate_df['target'].isin(x[0] for x in labels_counter.most_common(4))] = 'other'\n",
    "hate_df = hate_df[hate_df['target'].isin(x[0] for x in labels_counter.most_common(4))]\n"
   ]
  },
  {
   "cell_type": "code",
   "execution_count": 3,
   "metadata": {
    "pycharm": {
     "name": "#%%\n"
    }
   },
   "outputs": [],
   "source": [
    "import sklearn\n",
    "le = sklearn.preprocessing.LabelEncoder()\n",
    "text = hate_df.text.values\n",
    "labels = le.fit_transform(hate_df.target.values)\n",
    "unique_labels= list(set(labels))\n",
    "num_labels= len(unique_labels)"
   ]
  },
  {
   "cell_type": "code",
   "execution_count": 4,
   "metadata": {
    "pycharm": {
     "name": "#%%\n"
    }
   },
   "outputs": [
    {
     "name": "stdout",
     "output_type": "stream",
     "text": [
      "Mon Jan 16 21:01:29 2023 Building and compiling search function\n",
      "UMAP(angular_rp_forest=True, metric='cosine', min_dist=0.0, n_components=5, n_neighbors=5, verbose=2)\n",
      "Mon Jan 16 21:01:38 2023 Construct fuzzy simplicial set\n",
      "Mon Jan 16 21:01:38 2023 Finding Nearest Neighbors\n",
      "Mon Jan 16 21:01:38 2023 Building RP forest with 8 trees\n",
      "Mon Jan 16 21:01:38 2023 NN descent for 12 iterations\n",
      "huggingface/tokenizers: The current process just got forked, after parallelism has already been used. Disabling parallelism to avoid deadlocks...\n",
      "To disable this warning, you can either:\n",
      "\t- Avoid using `tokenizers` before the fork if possible\n",
      "\t- Explicitly set the environment variable TOKENIZERS_PARALLELISM=(true | false)\n",
      "\t 1  /  12\n",
      "\t 2  /  12\n",
      "\t 3  /  12\n",
      "\t 4  /  12\n",
      "\t 5  /  12\n",
      "\t 6  /  12\n",
      "\t 7  /  12\n",
      "\t 8  /  12\n",
      "\tStopping threshold met -- exiting after 8 iterations\n",
      "Mon Jan 16 21:02:15 2023 Finished Nearest Neighbor Search\n",
      "Mon Jan 16 21:02:18 2023 Construct embedding\n"
     ]
    },
    {
     "data": {
      "application/vnd.jupyter.widget-view+json": {
       "model_id": "4567c5d4f210437b8173a0abff6e31de",
       "version_major": 2,
       "version_minor": 0
      },
      "text/plain": [
       "Epochs completed:   0%|            0/500 [00:00]"
      ]
     },
     "metadata": {},
     "output_type": "display_data"
    },
    {
     "name": "stdout",
     "output_type": "stream",
     "text": [
      "Mon Jan 16 21:02:24 2023 Finished embedding\n"
     ]
    }
   ],
   "source": [
    "topic_model = BERTopic.load('model')\n",
    "topics, probs = topic_model.fit_transform(text)\n",
    "hate_df['topic'] = topics"
   ]
  },
  {
   "cell_type": "code",
   "execution_count": 22,
   "metadata": {},
   "outputs": [
    {
     "data": {
      "text/plain": [
       "{0: '0_nigger_niggers_white_number',\n",
       " 1: '1_kike_jews_jew_white',\n",
       " 2: '2_moslem_muslim_number_islam',\n",
       " 3: '3_faggot_faggots_like_user'}"
      ]
     },
     "execution_count": 22,
     "metadata": {},
     "output_type": "execute_result"
    }
   ],
   "source": [
    "topic_model.topic_names"
   ]
  },
  {
   "cell_type": "code",
   "execution_count": 5,
   "metadata": {
    "pycharm": {
     "is_executing": true,
     "name": "#%%\n"
    }
   },
   "outputs": [
    {
     "data": {
      "text/plain": [
       "Counter({3: 1131, 0: 2125, 2: 1018, 1: 538})"
      ]
     },
     "execution_count": 5,
     "metadata": {},
     "output_type": "execute_result"
    }
   ],
   "source": [
    "Counter(labels.tolist())"
   ]
  },
  {
   "cell_type": "code",
   "execution_count": 6,
   "metadata": {
    "pycharm": {
     "name": "#%%\n"
    }
   },
   "outputs": [],
   "source": [
    "tokenizer = BertTokenizer.from_pretrained(\n",
    "    'bert-base-uncased',\n",
    "    do_lower_case = True,\n",
    "    truncation=True\n",
    "    )"
   ]
  },
  {
   "cell_type": "code",
   "execution_count": 35,
   "metadata": {
    "pycharm": {
     "name": "#%%\n"
    }
   },
   "outputs": [],
   "source": [
    "def preprocessing(input_text,  tokenizer, topic_name=None):\n",
    "  '''\n",
    "  Returns <class transformers.tokenization_utils_base.BatchEncoding> with the following fields:\n",
    "    - input_ids: list of token ids\n",
    "    - token_type_ids: list of token type ids\n",
    "    - attention_mask: list of indices (0,1) specifying which tokens should considered by the model (return_attention_mask = True).\n",
    "  '''\n",
    "\n",
    "  tokens_text = tokenizer.tokenize(input_text)\n",
    "  if topic_name:\n",
    "    tokens_topic = tokenizer.tokenize(topic_name)\n",
    "    addition = ['[SEP]'] + tokens_topic\n",
    "  else:\n",
    "    addition = []\n",
    "  tokens = tokens_text+addition\n",
    "  return tokenizer.encode_plus(\n",
    "                        tokens,\n",
    "                        add_special_tokens = True,\n",
    "                        max_length = MAX_LEN,\n",
    "                        pad_to_max_length = True,\n",
    "                        return_attention_mask = True,\n",
    "                        return_tensors = 'pt'\n",
    "                   )\n",
    "\n",
    "\n",
    "def get_topic_name_by_doc_ind(i):\n",
    "    topic = hate_df.reset_index().iloc[i]['topics']\n",
    "    topic_name = topic_model.topic_names[topic]\n",
    "    return topic_name\n",
    "\n",
    "def data_loader(token_id, attention_masks, labels, train_idx, val_idx, batch_size):\n",
    "    # Train and validation sets\n",
    "    train_set = TensorDataset(token_id[train_idx], \n",
    "                              attention_masks[train_idx], \n",
    "                              labels[train_idx])\n",
    "\n",
    "    val_set = TensorDataset(token_id[val_idx], \n",
    "                            attention_masks[val_idx], \n",
    "                            labels[val_idx])\n",
    "\n",
    "    # Prepare DataLoader\n",
    "    train_dataloader = DataLoader(\n",
    "                train_set,\n",
    "                sampler = RandomSampler(train_set),\n",
    "                batch_size = batch_size\n",
    "            )\n",
    "\n",
    "    validation_dataloader = DataLoader(\n",
    "                val_set,\n",
    "                sampler = SequentialSampler(val_set),\n",
    "                batch_size = batch_size\n",
    "            )\n",
    "    return train_dataloader, validation_dataloader\n",
    "\n",
    "def create_model(num_labels):\n",
    "    # Load the BertForSequenceClassification model\n",
    "    model = BertForSequenceClassification.from_pretrained(\n",
    "        'bert-base-uncased',\n",
    "        num_labels = num_labels,\n",
    "        output_attentions = False,\n",
    "        output_hidden_states = False,\n",
    "    )\n",
    "\n",
    "    # Recommended learning rates (Adam): 5e-5, 3e-5, 2e-5. See: https://arxiv.org/pdf/1810.04805.pdf\n",
    "    optimizer = torch.optim.AdamW(model.parameters(), \n",
    "                                  lr = 5e-5,\n",
    "                                  eps = 1e-08\n",
    "                                  )\n",
    "    return model, optimizer\n"
   ]
  },
  {
   "cell_type": "code",
   "execution_count": 39,
   "metadata": {},
   "outputs": [
    {
     "name": "stdout",
     "output_type": "stream",
     "text": [
      "165\n"
     ]
    }
   ],
   "source": [
    "token_id = []\n",
    "attention_masks = []\n",
    "with_topic=True\n",
    "MAX_LEN = max([len(x.split()) for x in text])\n",
    "print(MAX_LEN)\n",
    "for i, sample in enumerate(text):\n",
    "  topic_name = None\n",
    "  if with_topic:\n",
    "    topic_id = topics[i]\n",
    "    topic_name = topic_model.topic_names[topic_id]\n",
    "    topic_name = ' '.join(topic_name.split('_')[1:])\n",
    "  encoding_dict = preprocessing(sample,tokenizer , topic_name)\n",
    "  token_id.append(encoding_dict['input_ids']) \n",
    "  attention_masks.append(encoding_dict['attention_mask'])\n",
    "\n",
    "\n",
    "token_id = torch.cat(token_id, dim = 0)\n",
    "attention_masks = torch.cat(attention_masks, dim = 0)\n",
    "labels = torch.tensor(labels)"
   ]
  },
  {
   "cell_type": "code",
   "execution_count": 40,
   "metadata": {
    "pycharm": {
     "name": "#%%\n"
    }
   },
   "outputs": [],
   "source": [
    "n=5\n",
    "seed = 42\n",
    "kf = StratifiedKFold(n_splits=n, random_state=seed, shuffle=True)\n",
    "is_kf = False\n",
    "val_ratio = 0.2\n",
    "# Recommended batch size: 16, 32. See: https://arxiv.org/pdf/1810.04805.pdf\n",
    "batch_size = 16\n",
    "\n",
    "# Indices of the train and validation splits stratified by labels\n",
    "train_idx, val_idx = train_test_split(\n",
    "    np.arange(len(labels)),\n",
    "    test_size = val_ratio,\n",
    "    shuffle = True,\n",
    "    stratify = labels)\n",
    "if is_kf:\n",
    "    split_range = kf.split(text, labels)\n",
    "else:\n",
    "    split_range = [(train_idx, val_idx)]\n"
   ]
  },
  {
   "cell_type": "code",
   "execution_count": 41,
   "metadata": {
    "pycharm": {
     "is_executing": true,
     "name": "#%%\n"
    }
   },
   "outputs": [
    {
     "name": "stdout",
     "output_type": "stream",
     "text": [
      "cuda\n"
     ]
    },
    {
     "name": "stderr",
     "output_type": "stream",
     "text": [
      "Some weights of the model checkpoint at bert-base-uncased were not used when initializing BertForSequenceClassification: ['cls.predictions.transform.LayerNorm.bias', 'cls.seq_relationship.bias', 'cls.predictions.bias', 'cls.seq_relationship.weight', 'cls.predictions.decoder.weight', 'cls.predictions.transform.LayerNorm.weight', 'cls.predictions.transform.dense.bias', 'cls.predictions.transform.dense.weight']\n",
      "- This IS expected if you are initializing BertForSequenceClassification from the checkpoint of a model trained on another task or with another architecture (e.g. initializing a BertForSequenceClassification model from a BertForPreTraining model).\n",
      "- This IS NOT expected if you are initializing BertForSequenceClassification from the checkpoint of a model that you expect to be exactly identical (initializing a BertForSequenceClassification model from a BertForSequenceClassification model).\n",
      "Some weights of BertForSequenceClassification were not initialized from the model checkpoint at bert-base-uncased and are newly initialized: ['classifier.weight', 'classifier.bias']\n",
      "You should probably TRAIN this model on a down-stream task to be able to use it for predictions and inference.\n",
      "Epoch:  10%|█         | 1/10 [00:43<06:28, 43.21s/it]"
     ]
    },
    {
     "name": "stdout",
     "output_type": "stream",
     "text": [
      "Epoch 1:\n",
      "Train evaluation\n",
      "loss = 0.446 accuracy = 0.866, precision = 0.840, recall = 0.852, f1 = 0.845\n",
      "Validation evaluation\n",
      "loss = 0.308 accuracy = 0.912, precision = 0.876, recall = 0.901, f1 = 0.887\n",
      "\n"
     ]
    },
    {
     "name": "stderr",
     "output_type": "stream",
     "text": [
      "Epoch:  20%|██        | 2/10 [01:27<05:49, 43.73s/it]"
     ]
    },
    {
     "name": "stdout",
     "output_type": "stream",
     "text": [
      "Epoch 2:\n",
      "Train evaluation\n",
      "loss = 0.216 accuracy = 0.930, precision = 0.914, recall = 0.920, f1 = 0.917\n",
      "Validation evaluation\n",
      "loss = 0.275 accuracy = 0.911, precision = 0.880, recall = 0.906, f1 = 0.892\n",
      "\n"
     ]
    },
    {
     "name": "stderr",
     "output_type": "stream",
     "text": [
      "Epoch:  30%|███       | 3/10 [02:11<05:08, 44.09s/it]"
     ]
    },
    {
     "name": "stdout",
     "output_type": "stream",
     "text": [
      "Epoch 3:\n",
      "Train evaluation\n",
      "loss = 0.138 accuracy = 0.956, precision = 0.945, recall = 0.951, f1 = 0.948\n",
      "Validation evaluation\n",
      "loss = 0.258 accuracy = 0.921, precision = 0.886, recall = 0.920, f1 = 0.900\n",
      "\n"
     ]
    },
    {
     "name": "stderr",
     "output_type": "stream",
     "text": [
      "Epoch:  40%|████      | 4/10 [02:56<04:25, 44.33s/it]"
     ]
    },
    {
     "name": "stdout",
     "output_type": "stream",
     "text": [
      "Epoch 4:\n",
      "Train evaluation\n",
      "loss = 0.100 accuracy = 0.969, precision = 0.960, recall = 0.966, f1 = 0.963\n",
      "Validation evaluation\n",
      "loss = 0.323 accuracy = 0.919, precision = 0.902, recall = 0.902, f1 = 0.901\n",
      "\n"
     ]
    },
    {
     "name": "stderr",
     "output_type": "stream",
     "text": [
      "Epoch:  50%|█████     | 5/10 [03:41<03:42, 44.48s/it]"
     ]
    },
    {
     "name": "stdout",
     "output_type": "stream",
     "text": [
      "Epoch 5:\n",
      "Train evaluation\n",
      "loss = 0.079 accuracy = 0.978, precision = 0.972, recall = 0.976, f1 = 0.974\n",
      "Validation evaluation\n",
      "loss = 0.291 accuracy = 0.926, precision = 0.914, recall = 0.908, f1 = 0.911\n",
      "\n"
     ]
    },
    {
     "name": "stderr",
     "output_type": "stream",
     "text": [
      "Epoch:  60%|██████    | 6/10 [04:26<02:58, 44.59s/it]"
     ]
    },
    {
     "name": "stdout",
     "output_type": "stream",
     "text": [
      "Epoch 6:\n",
      "Train evaluation\n",
      "loss = 0.038 accuracy = 0.992, precision = 0.990, recall = 0.992, f1 = 0.991\n",
      "Validation evaluation\n",
      "loss = 0.350 accuracy = 0.921, precision = 0.905, recall = 0.906, f1 = 0.905\n",
      "\n"
     ]
    },
    {
     "name": "stderr",
     "output_type": "stream",
     "text": [
      "Epoch:  70%|███████   | 7/10 [05:10<02:13, 44.66s/it]"
     ]
    },
    {
     "name": "stdout",
     "output_type": "stream",
     "text": [
      "Epoch 7:\n",
      "Train evaluation\n",
      "loss = 0.041 accuracy = 0.990, precision = 0.985, recall = 0.989, f1 = 0.987\n",
      "Validation evaluation\n",
      "loss = 0.314 accuracy = 0.925, precision = 0.910, recall = 0.905, f1 = 0.907\n",
      "\n"
     ]
    },
    {
     "name": "stderr",
     "output_type": "stream",
     "text": [
      "Epoch:  80%|████████  | 8/10 [05:55<01:29, 44.74s/it]"
     ]
    },
    {
     "name": "stdout",
     "output_type": "stream",
     "text": [
      "Epoch 8:\n",
      "Train evaluation\n",
      "loss = 0.048 accuracy = 0.987, precision = 0.985, recall = 0.986, f1 = 0.986\n",
      "Validation evaluation\n",
      "loss = 0.364 accuracy = 0.921, precision = 0.900, recall = 0.911, f1 = 0.904\n",
      "\n"
     ]
    },
    {
     "name": "stderr",
     "output_type": "stream",
     "text": [
      "Epoch:  90%|█████████ | 9/10 [06:40<00:44, 44.81s/it]"
     ]
    },
    {
     "name": "stdout",
     "output_type": "stream",
     "text": [
      "Epoch 9:\n",
      "Train evaluation\n",
      "loss = 0.033 accuracy = 0.991, precision = 0.989, recall = 0.990, f1 = 0.989\n",
      "Validation evaluation\n",
      "loss = 0.495 accuracy = 0.904, precision = 0.882, recall = 0.885, f1 = 0.882\n",
      "\n"
     ]
    },
    {
     "name": "stderr",
     "output_type": "stream",
     "text": [
      "Epoch: 100%|██████████| 10/10 [07:25<00:00, 44.58s/it]"
     ]
    },
    {
     "name": "stdout",
     "output_type": "stream",
     "text": [
      "Epoch 10:\n",
      "Train evaluation\n",
      "loss = 0.037 accuracy = 0.989, precision = 0.987, recall = 0.989, f1 = 0.988\n",
      "Validation evaluation\n",
      "loss = 0.491 accuracy = 0.900, precision = 0.889, recall = 0.880, f1 = 0.884\n",
      "\n"
     ]
    },
    {
     "name": "stderr",
     "output_type": "stream",
     "text": [
      "\n"
     ]
    }
   ],
   "source": [
    "import gc\n",
    "epochs = 10\n",
    "device = torch.device('cuda' if torch.cuda.is_available() else 'cpu')\n",
    "print(device)\n",
    "# Run on GPU\n",
    "# Recommended number of epochs: 2, 3, 4. See: https://arxiv.org/pdf/1810.04805.pdf\n",
    "results = []\n",
    "for train_idx, val_idx in split_range:\n",
    "    torch.cuda.empty_cache()\n",
    "    gc.collect()\n",
    "    model, optimizer = create_model(num_labels)\n",
    "    model = model.to(device)\n",
    "    train_dataloader, validation_dataloader = data_loader(token_id, attention_masks, labels, train_idx, val_idx, batch_size)\n",
    "    accuracy_scores = {'train':[], 'val':[]}\n",
    "    losses_scores = {'train':[], 'val':[]}\n",
    "    for epoch in trange(epochs, desc = 'Epoch'):\n",
    "\n",
    "        # ========== Training ==========\n",
    "\n",
    "        # Set model to training mode\n",
    "        model.train()\n",
    "\n",
    "        # Tracking variables\n",
    "        tr_loss = 0\n",
    "        nb_tr_examples, nb_tr_steps = 0, 0\n",
    "        # Tracking variables \n",
    "        true_labels = []\n",
    "        pred_labels = []\n",
    "        for step, batch in enumerate(train_dataloader):\n",
    "            batch = tuple(t.to(device) for t in batch)\n",
    "            b_input_ids, b_input_mask, b_labels = batch\n",
    "            # b_labels = b_labels.type(torch.LongTensor)\n",
    "            optimizer.zero_grad()\n",
    "            # Forward pass\n",
    "            train_output = model(b_input_ids, \n",
    "                                 token_type_ids = None, \n",
    "                                 attention_mask = b_input_mask, \n",
    "                                 labels = b_labels)\n",
    "            # Backward pass\n",
    "            train_output.loss.backward()\n",
    "            optimizer.step()\n",
    "            # Update tracking variables\n",
    "            \n",
    "            \n",
    "            \n",
    "#             class_weights=class_weight.compute_class_weight('balanced',np.unique(y),y.numpy())\n",
    "#             class_weights=torch.tensor(class_weights,dtype=torch.float)\n",
    "\n",
    "#             print(class_weights) #([1.0000, 1.0000, 4.0000, 1.0000, 0.5714])\n",
    "#             logits = outputs['logits']\n",
    "#             criterion = torch.nn.CrossEntropyLoss(weights=class_weights)\n",
    "#             loss = criterion(logits, inputs['labels'])\n",
    "            \n",
    "            \n",
    "            \n",
    "            tr_loss += train_output.loss.item()\n",
    "            nb_tr_examples += b_input_ids.size(0)\n",
    "            nb_tr_steps += 1\n",
    "            preds = torch.argmax(train_output.logits, dim=1)\n",
    "            true_labels.extend(b_labels.cpu().numpy())\n",
    "            pred_labels.extend(preds.cpu().numpy())\n",
    "        # Calculate the evaluation metrics\n",
    "        tr_accuracy = accuracy_score(true_labels, pred_labels)\n",
    "        precision = recall_score(true_labels, pred_labels, average='macro')\n",
    "        recall = precision_score(true_labels, pred_labels, average='macro')\n",
    "        f1 = f1_score(true_labels, pred_labels, average='macro')\n",
    "        losses_scores['train'].append(tr_loss/nb_tr_steps)\n",
    "        accuracy_scores['train'].append(tr_accuracy)\n",
    "        train_text_to_print = f'Epoch {epoch+1}:\\nTrain evaluation\\nloss = {tr_loss/nb_tr_steps:.3f} accuracy = {tr_accuracy:.3f}, precision = {precision:.3f}, recall = {recall:.3f}, f1 = {f1:.3f}\\n'\n",
    "\n",
    "        # Set model to evaluation mode\n",
    "        model.eval()\n",
    "\n",
    "        # Tracking variables \n",
    "        true_labels = []\n",
    "        pred_labels = []\n",
    "        ts_loss = 0\n",
    "        nb_ts_steps = 0\n",
    "        for batch in validation_dataloader:\n",
    "            batch = tuple(t.to(device) for t in batch)\n",
    "            b_input_ids, b_input_mask, b_labels = batch\n",
    "            # b_labels = b_labels.type(torch.LongTensor)\n",
    "            # with torch.no_grad():\n",
    "            # Forward pass\n",
    "            eval_output = model(b_input_ids, \n",
    "                                token_type_ids = None, \n",
    "                                attention_mask = b_input_mask,\n",
    "                                labels = b_labels)\n",
    "            # logits = eval_output.logits.detach().cpu().numpy()\n",
    "            label_ids = b_labels.to('cpu').numpy()\n",
    "            # Convert the logits to predictions\n",
    "            preds = torch.argmax(eval_output.logits, dim=1)\n",
    "            true_labels.extend(b_labels.cpu().numpy())\n",
    "            pred_labels.extend(preds.cpu().numpy())\n",
    "            ts_loss += eval_output.loss.item()\n",
    "            nb_ts_steps += 1\n",
    "        # Calculate the evaluation metrics\n",
    "        ts_accuracy = accuracy_score(true_labels, pred_labels)\n",
    "        precision = recall_score(true_labels, pred_labels, average='macro')\n",
    "        recall = precision_score(true_labels, pred_labels, average='macro')\n",
    "        f1 = f1_score(true_labels, pred_labels, average='macro')\n",
    "        losses_scores['val'].append(ts_loss/nb_ts_steps)\n",
    "        accuracy_scores['val'].append(ts_accuracy)\n",
    "        # Print the evaluation metrics\n",
    "        val_text_to_print = f'Validation evaluation\\nloss = {ts_loss/nb_ts_steps:.3f} accuracy = {ts_accuracy:.3f}, precision = {precision:.3f}, recall = {recall:.3f}, f1 = {f1:.3f}\\n'\n",
    "        print(train_text_to_print+val_text_to_print)\n",
    "    del model\n",
    "    del train_output\n",
    "    del eval_output\n",
    "    results.append((tr_accuracy, ts_accuracy))"
   ]
  },
  {
   "cell_type": "code",
   "execution_count": 11,
   "metadata": {},
   "outputs": [
    {
     "data": {
      "text/plain": [
       "tr_acc     0.980414\n",
       "val_acc    0.936617\n",
       "dtype: float64"
      ]
     },
     "execution_count": 11,
     "metadata": {},
     "output_type": "execute_result"
    }
   ],
   "source": [
    "pd.DataFrame(results, columns=['tr_acc', 'val_acc']).mean(axis=0)"
   ]
  },
  {
   "cell_type": "code",
   "execution_count": 42,
   "metadata": {
    "pycharm": {
     "name": "#%%\n"
    }
   },
   "outputs": [
    {
     "name": "stdout",
     "output_type": "stream",
     "text": [
      "Mon Jan 16 22:10:55 2023 Worst tree score: 0.20157938\n",
      "Mon Jan 16 22:10:55 2023 Mean tree score: 0.20856712\n",
      "Mon Jan 16 22:10:55 2023 Best tree score: 0.21799667\n",
      "Mon Jan 16 22:10:58 2023 Forward diversification reduced edges from 24060 to 15419\n",
      "Mon Jan 16 22:11:01 2023 Reverse diversification reduced edges from 15419 to 15419\n",
      "Mon Jan 16 22:11:04 2023 Degree pruning reduced edges from 16924 to 16263\n",
      "Mon Jan 16 22:11:04 2023 Resorting data and graph based on tree order\n",
      "Mon Jan 16 22:11:04 2023 Building and compiling search function\n"
     ]
    },
    {
     "data": {
      "application/vnd.jupyter.widget-view+json": {
       "model_id": "28bd8bc386d14beeaae6e82668dc8fb2",
       "version_major": 2,
       "version_minor": 0
      },
      "text/plain": [
       "Epochs completed:   0%|            0/100 [00:00]"
      ]
     },
     "metadata": {},
     "output_type": "display_data"
    },
    {
     "ename": "AttributeError",
     "evalue": "'str' object has no attribute 'tokenize'",
     "output_type": "error",
     "traceback": [
      "\u001b[0;31m---------------------------------------------------------------------------\u001b[0m",
      "\u001b[0;31mAttributeError\u001b[0m                            Traceback (most recent call last)",
      "Cell \u001b[0;32mIn[42], line 4\u001b[0m\n\u001b[1;32m      2\u001b[0m topic_id \u001b[38;5;241m=\u001b[39m topic_model\u001b[38;5;241m.\u001b[39mtransform([new_sentence])[\u001b[38;5;241m0\u001b[39m][\u001b[38;5;241m0\u001b[39m]\n\u001b[1;32m      3\u001b[0m topic_name \u001b[38;5;241m=\u001b[39m topic_model\u001b[38;5;241m.\u001b[39mtopic_names[topic_id]\n\u001b[0;32m----> 4\u001b[0m encoding_dict \u001b[38;5;241m=\u001b[39m \u001b[43mpreprocessing\u001b[49m\u001b[43m(\u001b[49m\u001b[43mnew_sentence\u001b[49m\u001b[43m,\u001b[49m\u001b[43m \u001b[49m\u001b[43mtopic_name\u001b[49m\u001b[43m,\u001b[49m\u001b[43m \u001b[49m\u001b[43mtokenizer\u001b[49m\u001b[43m)\u001b[49m\n\u001b[1;32m      5\u001b[0m \u001b[38;5;66;03m# We need Token IDs and Attention Mask for inference on the new sentence\u001b[39;00m\n\u001b[1;32m      6\u001b[0m test_ids \u001b[38;5;241m=\u001b[39m []\n",
      "Cell \u001b[0;32mIn[35], line 9\u001b[0m, in \u001b[0;36mpreprocessing\u001b[0;34m(input_text, tokenizer, topic_name)\u001b[0m\n\u001b[1;32m      1\u001b[0m \u001b[38;5;28;01mdef\u001b[39;00m \u001b[38;5;21mpreprocessing\u001b[39m(input_text,  tokenizer, topic_name\u001b[38;5;241m=\u001b[39m\u001b[38;5;28;01mNone\u001b[39;00m):\n\u001b[1;32m      2\u001b[0m \u001b[38;5;250m  \u001b[39m\u001b[38;5;124;03m'''\u001b[39;00m\n\u001b[1;32m      3\u001b[0m \u001b[38;5;124;03m  Returns <class transformers.tokenization_utils_base.BatchEncoding> with the following fields:\u001b[39;00m\n\u001b[1;32m      4\u001b[0m \u001b[38;5;124;03m    - input_ids: list of token ids\u001b[39;00m\n\u001b[1;32m      5\u001b[0m \u001b[38;5;124;03m    - token_type_ids: list of token type ids\u001b[39;00m\n\u001b[1;32m      6\u001b[0m \u001b[38;5;124;03m    - attention_mask: list of indices (0,1) specifying which tokens should considered by the model (return_attention_mask = True).\u001b[39;00m\n\u001b[1;32m      7\u001b[0m \u001b[38;5;124;03m  '''\u001b[39;00m\n\u001b[0;32m----> 9\u001b[0m   tokens_text \u001b[38;5;241m=\u001b[39m \u001b[43mtokenizer\u001b[49m\u001b[38;5;241;43m.\u001b[39;49m\u001b[43mtokenize\u001b[49m(input_text)\n\u001b[1;32m     10\u001b[0m   \u001b[38;5;28;01mif\u001b[39;00m topic_name:\n\u001b[1;32m     11\u001b[0m     tokens_topic \u001b[38;5;241m=\u001b[39m tokenizer\u001b[38;5;241m.\u001b[39mtokenize(topic_name)\n",
      "\u001b[0;31mAttributeError\u001b[0m: 'str' object has no attribute 'tokenize'"
     ]
    }
   ],
   "source": [
    "new_sentence = 'all they think about it is rap, guns and drugs'\n",
    "topic_id = topic_model.transform([new_sentence])[0][0]\n",
    "topic_name = topic_model.topic_names[topic_id]\n",
    "encoding_dict = preprocessing(new_sentence, topic_name, tokenizer)\n",
    "# We need Token IDs and Attention Mask for inference on the new sentence\n",
    "test_ids = []\n",
    "test_attention_mask = []\n",
    "\n",
    "\n",
    "# Extract IDs and Attention Mask\n",
    "test_ids.append(encoding_dict['input_ids'])\n",
    "test_attention_mask.append(encoding_dict['attention_mask'])\n",
    "test_ids = torch.cat(test_ids, dim = 0)\n",
    "test_attention_mask = torch.cat(test_attention_mask, dim = 0)\n",
    "\n",
    "# Forward pass, calculate logit predictions\n",
    "with torch.no_grad():\n",
    "  output = model(test_ids.to(device), token_type_ids = None, attention_mask = test_attention_mask.to(device))\n",
    "\n",
    "prediction = le.inverse_transform([output.logits.cpu().data.numpy().argmax()])\n",
    "\n",
    "\n",
    "print('Input Sentence: ', new_sentence)\n",
    "print('Predicted Class: ', prediction)\n",
    "print(\"Topic name: \", topic_name)"
   ]
  },
  {
   "cell_type": "code",
   "execution_count": 43,
   "metadata": {
    "pycharm": {
     "name": "#%%\n"
    }
   },
   "outputs": [
    {
     "data": {
      "text/plain": [
       "<AxesSubplot:title={'center':'Loss'}>"
      ]
     },
     "execution_count": 43,
     "metadata": {},
     "output_type": "execute_result"
    },
    {
     "data": {
      "image/png": "[encoded data removed]",
      "text/plain": [
       "<Figure size 1000x500 with 1 Axes>"
      ]
     },
     "metadata": {},
     "output_type": "display_data"
    }
   ],
   "source": [
    "pd.DataFrame(losses_scores).plot(title='Loss',figsize=(10,5))"
   ]
  },
  {
   "cell_type": "code",
   "execution_count": 44,
   "metadata": {
    "pycharm": {
     "name": "#%%\n"
    }
   },
   "outputs": [
    {
     "data": {
      "text/plain": [
       "<AxesSubplot:title={'center':'Accuracy'}>"
      ]
     },
     "execution_count": 44,
     "metadata": {},
     "output_type": "execute_result"
    },
    {
     "data": {
      "image/png": "[encoded data removed]",
      "text/plain": [
       "<Figure size 1000x500 with 1 Axes>"
      ]
     },
     "metadata": {},
     "output_type": "display_data"
    }
   ],
   "source": [
    "pd.DataFrame(accuracy_scores).plot(title='Accuracy',figsize=(10,5))"
   ]
  },
  {
   "cell_type": "code",
   "execution_count": 23,
   "metadata": {},
   "outputs": [
    {
     "data": {
      "text/html": [
       "<div>\n",
       "<style scoped>\n",
       "    .dataframe tbody tr th:only-of-type {\n",
       "        vertical-align: middle;\n",
       "    }\n",
       "\n",
       "    .dataframe tbody tr th {\n",
       "        vertical-align: top;\n",
       "    }\n",
       "\n",
       "    .dataframe thead th {\n",
       "        text-align: right;\n",
       "    }\n",
       "</style>\n",
       "<table border=\"1\" class=\"dataframe\">\n",
       "  <thead>\n",
       "    <tr style=\"text-align: right;\">\n",
       "      <th></th>\n",
       "      <th>index</th>\n",
       "      <th>Unnamed: 0</th>\n",
       "      <th>label</th>\n",
       "      <th>target</th>\n",
       "      <th>tokens</th>\n",
       "      <th>text</th>\n",
       "      <th>topics</th>\n",
       "      <th>topic</th>\n",
       "    </tr>\n",
       "  </thead>\n",
       "  <tbody>\n",
       "    <tr>\n",
       "      <th>2</th>\n",
       "      <td>5</td>\n",
       "      <td>13851720_gab</td>\n",
       "      <td>hatespeech</td>\n",
       "      <td>Jewish</td>\n",
       "      <td>['laura', 'loomer', 'raped', 'me', 'while', 's...</td>\n",
       "      <td>laura loomer raped me while screaming at me in...</td>\n",
       "      <td>-1_the_to_and_is</td>\n",
       "      <td>2</td>\n",
       "    </tr>\n",
       "    <tr>\n",
       "      <th>3</th>\n",
       "      <td>6</td>\n",
       "      <td>24198545_gab</td>\n",
       "      <td>hatespeech</td>\n",
       "      <td>African</td>\n",
       "      <td>['and', 'this', 'is', 'why', 'i', 'end', 'up',...</td>\n",
       "      <td>and this is why i end up with nigger trainee d...</td>\n",
       "      <td>1_nigger_niggers_the_you</td>\n",
       "      <td>0</td>\n",
       "    </tr>\n",
       "    <tr>\n",
       "      <th>4</th>\n",
       "      <td>8</td>\n",
       "      <td>19679648_gab</td>\n",
       "      <td>hatespeech</td>\n",
       "      <td>African</td>\n",
       "      <td>['guilty', 'until', 'proven', 'innocent', 'unl...</td>\n",
       "      <td>guilty until proven innocent unless you are a ...</td>\n",
       "      <td>3_white_user_the_and</td>\n",
       "      <td>1</td>\n",
       "    </tr>\n",
       "    <tr>\n",
       "      <th>5</th>\n",
       "      <td>9</td>\n",
       "      <td>15858421_gab</td>\n",
       "      <td>hatespeech</td>\n",
       "      <td>African</td>\n",
       "      <td>['tired', 'i', 'can', 'not', 'support', 'abort...</td>\n",
       "      <td>tired i can not support abortion from a moral ...</td>\n",
       "      <td>9_raped_user_women_and</td>\n",
       "      <td>0</td>\n",
       "    </tr>\n",
       "    <tr>\n",
       "      <th>6</th>\n",
       "      <td>10</td>\n",
       "      <td>23844035_gab</td>\n",
       "      <td>hatespeech</td>\n",
       "      <td>Islam</td>\n",
       "      <td>['&lt;number&gt;', '&lt;number&gt;', '&lt;percent&gt;', 'of', 'b...</td>\n",
       "      <td>&lt;number&gt; &lt;number&gt; &lt;percent&gt; of brits think mul...</td>\n",
       "      <td>0_muslim_the_to_and</td>\n",
       "      <td>2</td>\n",
       "    </tr>\n",
       "    <tr>\n",
       "      <th>...</th>\n",
       "      <td>...</td>\n",
       "      <td>...</td>\n",
       "      <td>...</td>\n",
       "      <td>...</td>\n",
       "      <td>...</td>\n",
       "      <td>...</td>\n",
       "      <td>...</td>\n",
       "      <td>...</td>\n",
       "    </tr>\n",
       "    <tr>\n",
       "      <th>6227</th>\n",
       "      <td>20122</td>\n",
       "      <td>9844694_gab</td>\n",
       "      <td>hatespeech</td>\n",
       "      <td>Jewish</td>\n",
       "      <td>['this', 'is', 'pretty', 'much', 'the', 'concl...</td>\n",
       "      <td>this is pretty much the conclusion of the fran...</td>\n",
       "      <td>2_jews_the_arabs_of</td>\n",
       "      <td>1</td>\n",
       "    </tr>\n",
       "    <tr>\n",
       "      <th>6228</th>\n",
       "      <td>20123</td>\n",
       "      <td>9845733_gab</td>\n",
       "      <td>hatespeech</td>\n",
       "      <td>Jewish</td>\n",
       "      <td>['do', 'not', 'for', 'get', 'my', 'followers',...</td>\n",
       "      <td>do not for get my followers the jews have decl...</td>\n",
       "      <td>2_jews_the_arabs_of</td>\n",
       "      <td>1</td>\n",
       "    </tr>\n",
       "    <tr>\n",
       "      <th>6229</th>\n",
       "      <td>20128</td>\n",
       "      <td>9867117_gab</td>\n",
       "      <td>hatespeech</td>\n",
       "      <td>Islam</td>\n",
       "      <td>['well', 'my', 'dear', 'lgbtq', 'brothers', 'a...</td>\n",
       "      <td>well my dear lgbtq brothers and sisters i do n...</td>\n",
       "      <td>0_muslim_the_to_and</td>\n",
       "      <td>2</td>\n",
       "    </tr>\n",
       "    <tr>\n",
       "      <th>6230</th>\n",
       "      <td>20134</td>\n",
       "      <td>9875482_gab</td>\n",
       "      <td>hatespeech</td>\n",
       "      <td>African</td>\n",
       "      <td>['c', 'mon', 'men', 'charge', 'it', 'for', 'th...</td>\n",
       "      <td>c mon men charge it for the gays trannies musl...</td>\n",
       "      <td>0_muslim_the_to_and</td>\n",
       "      <td>3</td>\n",
       "    </tr>\n",
       "    <tr>\n",
       "      <th>6231</th>\n",
       "      <td>20138</td>\n",
       "      <td>9981407_gab</td>\n",
       "      <td>hatespeech</td>\n",
       "      <td>Jewish</td>\n",
       "      <td>['&lt;user&gt;', 'congrats', 'on', 'making', 'the', ...</td>\n",
       "      <td>&lt;user&gt; congrats on making the kike hate list w...</td>\n",
       "      <td>6_kike_you_the_to</td>\n",
       "      <td>1</td>\n",
       "    </tr>\n",
       "  </tbody>\n",
       "</table>\n",
       "<p>4812 rows × 8 columns</p>\n",
       "</div>"
      ],
      "text/plain": [
       "      index    Unnamed: 0       label   target  \\\n",
       "2         5  13851720_gab  hatespeech   Jewish   \n",
       "3         6  24198545_gab  hatespeech  African   \n",
       "4         8  19679648_gab  hatespeech  African   \n",
       "5         9  15858421_gab  hatespeech  African   \n",
       "6        10  23844035_gab  hatespeech    Islam   \n",
       "...     ...           ...         ...      ...   \n",
       "6227  20122   9844694_gab  hatespeech   Jewish   \n",
       "6228  20123   9845733_gab  hatespeech   Jewish   \n",
       "6229  20128   9867117_gab  hatespeech    Islam   \n",
       "6230  20134   9875482_gab  hatespeech  African   \n",
       "6231  20138   9981407_gab  hatespeech   Jewish   \n",
       "\n",
       "                                                 tokens  \\\n",
       "2     ['laura', 'loomer', 'raped', 'me', 'while', 's...   \n",
       "3     ['and', 'this', 'is', 'why', 'i', 'end', 'up',...   \n",
       "4     ['guilty', 'until', 'proven', 'innocent', 'unl...   \n",
       "5     ['tired', 'i', 'can', 'not', 'support', 'abort...   \n",
       "6     ['<number>', '<number>', '<percent>', 'of', 'b...   \n",
       "...                                                 ...   \n",
       "6227  ['this', 'is', 'pretty', 'much', 'the', 'concl...   \n",
       "6228  ['do', 'not', 'for', 'get', 'my', 'followers',...   \n",
       "6229  ['well', 'my', 'dear', 'lgbtq', 'brothers', 'a...   \n",
       "6230  ['c', 'mon', 'men', 'charge', 'it', 'for', 'th...   \n",
       "6231  ['<user>', 'congrats', 'on', 'making', 'the', ...   \n",
       "\n",
       "                                                   text  \\\n",
       "2     laura loomer raped me while screaming at me in...   \n",
       "3     and this is why i end up with nigger trainee d...   \n",
       "4     guilty until proven innocent unless you are a ...   \n",
       "5     tired i can not support abortion from a moral ...   \n",
       "6     <number> <number> <percent> of brits think mul...   \n",
       "...                                                 ...   \n",
       "6227  this is pretty much the conclusion of the fran...   \n",
       "6228  do not for get my followers the jews have decl...   \n",
       "6229  well my dear lgbtq brothers and sisters i do n...   \n",
       "6230  c mon men charge it for the gays trannies musl...   \n",
       "6231  <user> congrats on making the kike hate list w...   \n",
       "\n",
       "                        topics  topic  \n",
       "2             -1_the_to_and_is      2  \n",
       "3     1_nigger_niggers_the_you      0  \n",
       "4         3_white_user_the_and      1  \n",
       "5       9_raped_user_women_and      0  \n",
       "6          0_muslim_the_to_and      2  \n",
       "...                        ...    ...  \n",
       "6227       2_jews_the_arabs_of      1  \n",
       "6228       2_jews_the_arabs_of      1  \n",
       "6229       0_muslim_the_to_and      2  \n",
       "6230       0_muslim_the_to_and      3  \n",
       "6231         6_kike_you_the_to      1  \n",
       "\n",
       "[4812 rows x 8 columns]"
      ]
     },
     "execution_count": 23,
     "metadata": {},
     "output_type": "execute_result"
    }
   ],
   "source": [
    "hate_df"
   ]
  },
  {
   "cell_type": "code",
   "execution_count": null,
   "metadata": {},
   "outputs": [],
   "source": []
  }
 ],
 "metadata": {
  "kernelspec": {
   "display_name": "bert2vec",
   "language": "python",
   "name": "bert2vec"
  },
  "language_info": {
   "codemirror_mode": {
    "name": "ipython",
    "version": 3
   },
   "file_extension": ".py",
   "mimetype": "text/x-python",
   "name": "python",
   "nbconvert_exporter": "python",
   "pygments_lexer": "ipython3",
   "version": "3.8.12"
  },
  "vscode": {
   "interpreter": {
    "hash": "83442504b71d914325260cede427dd3998e41b9544a3b4fab4b8796da0ce6d33"
   }
  }
 },
 "nbformat": 4,
 "nbformat_minor": 4
}
