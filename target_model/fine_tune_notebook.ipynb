{
 "cells": [
  {
   "cell_type": "code",
   "execution_count": 1,
   "metadata": {},
   "outputs": [],
   "source": [
    "\n",
    "import torch\n",
    "from torch.utils.data import TensorDataset, DataLoader, RandomSampler, SequentialSampler\n",
    "from transformers import BertTokenizer, BertForSequenceClassification\n",
    "from sklearn.model_selection import train_test_split\n",
    "from collections import Counter\n",
    "from sklearn import preprocessing\n",
    "import pandas as pd\n",
    "import numpy as np\n",
    "import json\n",
    "from tabulate import tabulate\n",
    "from tqdm import trange\n",
    "import random\n",
    "from sklearn.metrics import classification_report, recall_score,precision_score , f1_score, accuracy_score\n"
   ]
  },
  {
   "cell_type": "code",
   "execution_count": 2,
   "metadata": {},
   "outputs": [],
   "source": [
    "with open('../data/dataset.json', 'r') as f:\n",
    "    data = json.load(f)\n",
    "new_data = {}\n",
    "for key, post in data.items():\n",
    "    labels_counter = Counter([x['label'] for x in post['annotators']])\n",
    "    target_counter = Counter([y for x in post['annotators']  for y in x['target']])\n",
    "    new_data[key] = {'label': labels_counter.most_common(1)[0][0],\n",
    "                     'target': target_counter.most_common(1)[0][0],\n",
    "                     'tokens': post['post_tokens']}\n",
    "df = pd.DataFrame(new_data).T\n",
    "hate_df = df[df['label']=='hatespeech']\n",
    "labels_counter = Counter(hate_df.target.tolist())\n",
    "# hate_df = hate_df[hate_df['target'].isin(x[0] for x in labels_counter.most_common(6))]\n",
    "hate_df = hate_df[hate_df['target'].isin({'Asian', 'Other', 'None', 'Women', 'Hispanic'})]"
   ]
  },
  {
   "cell_type": "code",
   "execution_count": 3,
   "metadata": {},
   "outputs": [],
   "source": [
    "text = hate_df.tokens.values\n",
    "labels = hate_df.target.values\n",
    "unique_labels= list(set(labels))\n",
    "num_labels= len(unique_labels)"
   ]
  },
  {
   "cell_type": "code",
   "execution_count": 4,
   "metadata": {},
   "outputs": [
    {
     "data": {
      "text/plain": [
       "Counter({'Asian': 143,\n",
       "         'Hispanic': 188,\n",
       "         'Other': 159,\n",
       "         'Women': 185,\n",
       "         'None': 102})"
      ]
     },
     "execution_count": 4,
     "metadata": {},
     "output_type": "execute_result"
    }
   ],
   "source": [
    "Counter(labels.tolist())"
   ]
  },
  {
   "cell_type": "code",
   "execution_count": 5,
   "metadata": {},
   "outputs": [],
   "source": [
    "tokenizer = BertTokenizer.from_pretrained(\n",
    "    'bert-base-uncased',\n",
    "    do_lower_case = True\n",
    "    )"
   ]
  },
  {
   "cell_type": "code",
   "execution_count": 6,
   "metadata": {},
   "outputs": [
    {
     "name": "stderr",
     "output_type": "stream",
     "text": [
      "Truncation was not explicitly activated but `max_length` is provided a specific value, please use `truncation=True` to explicitly truncate examples to max length. Defaulting to 'longest_first' truncation strategy. If you encode pairs of sequences (GLUE-style) with the tokenizer you can select this strategy more precisely by providing a specific strategy to `truncation`.\n",
      "/home/shouei/.conda/envs/bert2vec/lib/python3.8/site-packages/transformers/tokenization_utils_base.py:2226: FutureWarning: The `pad_to_max_length` argument is deprecated and will be removed in a future version, use `padding=True` or `padding='longest'` to pad to the longest sequence in the batch, or use `padding='max_length'` to pad to a max length. In this case, you can give a specific length with `max_length` (e.g. `max_length=45`) or leave max_length to None to pad to the maximal input size of the model (e.g. 512 for Bert).\n",
      "  warnings.warn(\n"
     ]
    }
   ],
   "source": [
    "token_id = []\n",
    "attention_masks = []\n",
    "le = preprocessing.LabelEncoder()\n",
    "le.fit(labels)\n",
    "\n",
    "def preprocessing(input_text, tokenizer):\n",
    "  '''\n",
    "  Returns <class transformers.tokenization_utils_base.BatchEncoding> with the following fields:\n",
    "    - input_ids: list of token ids\n",
    "    - token_type_ids: list of token type ids\n",
    "    - attention_mask: list of indices (0,1) specifying which tokens should considered by the model (return_attention_mask = True).\n",
    "  '''\n",
    "  return tokenizer.encode_plus(\n",
    "                        input_text,\n",
    "                        add_special_tokens = True,\n",
    "                        max_length = 32,\n",
    "                        pad_to_max_length = True,\n",
    "                        return_attention_mask = True,\n",
    "                        return_tensors = 'pt'\n",
    "                   )\n",
    "\n",
    "\n",
    "for sample in text:\n",
    "  encoding_dict = preprocessing(' '.join(sample), tokenizer)\n",
    "  token_id.append(encoding_dict['input_ids']) \n",
    "  attention_masks.append(encoding_dict['attention_mask'])\n",
    "\n",
    "\n",
    "token_id = torch.cat(token_id, dim = 0)\n",
    "attention_masks = torch.cat(attention_masks, dim = 0)\n",
    "labels = torch.tensor(le.transform(labels))"
   ]
  },
  {
   "cell_type": "code",
   "execution_count": 7,
   "metadata": {},
   "outputs": [],
   "source": [
    "\n",
    "val_ratio = 0.2\n",
    "# Recommended batch size: 16, 32. See: https://arxiv.org/pdf/1810.04805.pdf\n",
    "batch_size = 16\n",
    "\n",
    "# Indices of the train and validation splits stratified by labels\n",
    "train_idx, val_idx = train_test_split(\n",
    "    np.arange(len(labels)),\n",
    "    test_size = val_ratio,\n",
    "    shuffle = True,\n",
    "    stratify = labels)\n",
    "\n",
    "# Train and validation sets\n",
    "train_set = TensorDataset(token_id[train_idx], \n",
    "                          attention_masks[train_idx], \n",
    "                          labels[train_idx])\n",
    "\n",
    "val_set = TensorDataset(token_id[val_idx], \n",
    "                        attention_masks[val_idx], \n",
    "                        labels[val_idx])\n",
    "\n",
    "# Prepare DataLoader\n",
    "train_dataloader = DataLoader(\n",
    "            train_set,\n",
    "            sampler = RandomSampler(train_set),\n",
    "            batch_size = batch_size\n",
    "        )\n",
    "\n",
    "validation_dataloader = DataLoader(\n",
    "            val_set,\n",
    "            sampler = SequentialSampler(val_set),\n",
    "            batch_size = batch_size\n",
    "        )"
   ]
  },
  {
   "cell_type": "code",
   "execution_count": 8,
   "metadata": {},
   "outputs": [
    {
     "name": "stderr",
     "output_type": "stream",
     "text": [
      "Some weights of the model checkpoint at bert-base-uncased were not used when initializing BertForSequenceClassification: ['cls.predictions.transform.dense.weight', 'cls.predictions.bias', 'cls.predictions.transform.dense.bias', 'cls.predictions.transform.LayerNorm.bias', 'cls.seq_relationship.weight', 'cls.predictions.transform.LayerNorm.weight', 'cls.predictions.decoder.weight', 'cls.seq_relationship.bias']\n",
      "- This IS expected if you are initializing BertForSequenceClassification from the checkpoint of a model trained on another task or with another architecture (e.g. initializing a BertForSequenceClassification model from a BertForPreTraining model).\n",
      "- This IS NOT expected if you are initializing BertForSequenceClassification from the checkpoint of a model that you expect to be exactly identical (initializing a BertForSequenceClassification model from a BertForSequenceClassification model).\n",
      "Some weights of BertForSequenceClassification were not initialized from the model checkpoint at bert-base-uncased and are newly initialized: ['classifier.weight', 'classifier.bias']\n",
      "You should probably TRAIN this model on a down-stream task to be able to use it for predictions and inference.\n"
     ]
    }
   ],
   "source": [
    "# Load the BertForSequenceClassification model\n",
    "model = BertForSequenceClassification.from_pretrained(\n",
    "    'bert-base-uncased',\n",
    "    num_labels = num_labels,\n",
    "    output_attentions = False,\n",
    "    output_hidden_states = False,\n",
    ")\n",
    "\n",
    "# Recommended learning rates (Adam): 5e-5, 3e-5, 2e-5. See: https://arxiv.org/pdf/1810.04805.pdf\n",
    "optimizer = torch.optim.AdamW(model.parameters(), \n",
    "                              lr = 5e-6,\n",
    "                              eps = 1e-08\n",
    "                              )\n",
    "\n",
    "# Run on GPU\n",
    "# model.cuda()"
   ]
  },
  {
   "cell_type": "code",
   "execution_count": 9,
   "metadata": {},
   "outputs": [
    {
     "name": "stderr",
     "output_type": "stream",
     "text": [
      "Epoch:   0%|          | 0/20 [00:00<?, ?it/s]/home/shouei/.conda/envs/bert2vec/lib/python3.8/site-packages/sklearn/metrics/_classification.py:1318: UndefinedMetricWarning: Precision is ill-defined and being set to 0.0 in labels with no predicted samples. Use `zero_division` parameter to control this behavior.\n",
      "  _warn_prf(average, modifier, msg_start, len(result))\n",
      "Epoch:   5%|▌         | 1/20 [03:56<1:14:45, 236.10s/it]"
     ]
    },
    {
     "name": "stdout",
     "output_type": "stream",
     "text": [
      "Epoch 1:\n",
      "Train evaluation\n",
      "loss = 1.610 accuracy = 0.245, precision = 0.224, recall = 0.207, f1 = 0.201\n",
      "Validation evaluation\n",
      "loss = 1.559 accuracy = 0.282, precision = 0.245, recall = 0.166, f1 = 0.175\n",
      "\n"
     ]
    },
    {
     "name": "stderr",
     "output_type": "stream",
     "text": [
      "/home/shouei/.conda/envs/bert2vec/lib/python3.8/site-packages/sklearn/metrics/_classification.py:1318: UndefinedMetricWarning: Precision is ill-defined and being set to 0.0 in labels with no predicted samples. Use `zero_division` parameter to control this behavior.\n",
      "  _warn_prf(average, modifier, msg_start, len(result))\n",
      "Epoch:  10%|█         | 2/20 [07:45<1:09:35, 231.96s/it]"
     ]
    },
    {
     "name": "stdout",
     "output_type": "stream",
     "text": [
      "Epoch 2:\n",
      "Train evaluation\n",
      "loss = 1.524 accuracy = 0.346, precision = 0.303, recall = 0.275, f1 = 0.260\n",
      "Validation evaluation\n",
      "loss = 1.520 accuracy = 0.378, precision = 0.331, recall = 0.234, f1 = 0.262\n",
      "\n"
     ]
    },
    {
     "name": "stderr",
     "output_type": "stream",
     "text": [
      "/home/shouei/.conda/envs/bert2vec/lib/python3.8/site-packages/sklearn/metrics/_classification.py:1318: UndefinedMetricWarning: Precision is ill-defined and being set to 0.0 in labels with no predicted samples. Use `zero_division` parameter to control this behavior.\n",
      "  _warn_prf(average, modifier, msg_start, len(result))\n",
      "Epoch:  15%|█▌        | 3/20 [11:33<1:05:18, 230.47s/it]"
     ]
    },
    {
     "name": "stdout",
     "output_type": "stream",
     "text": [
      "Epoch 3:\n",
      "Train evaluation\n",
      "loss = 1.456 accuracy = 0.407, precision = 0.359, recall = 0.324, f1 = 0.309\n",
      "Validation evaluation\n",
      "loss = 1.472 accuracy = 0.429, precision = 0.374, recall = 0.274, f1 = 0.304\n",
      "\n"
     ]
    },
    {
     "name": "stderr",
     "output_type": "stream",
     "text": [
      "Epoch:  20%|██        | 4/20 [15:22<1:01:13, 229.59s/it]"
     ]
    },
    {
     "name": "stdout",
     "output_type": "stream",
     "text": [
      "Epoch 4:\n",
      "Train evaluation\n",
      "loss = 1.380 accuracy = 0.493, precision = 0.439, recall = 0.508, f1 = 0.400\n",
      "Validation evaluation\n",
      "loss = 1.416 accuracy = 0.474, precision = 0.418, recall = 0.699, f1 = 0.365\n",
      "\n"
     ]
    },
    {
     "name": "stderr",
     "output_type": "stream",
     "text": [
      "Epoch:  25%|██▌       | 5/20 [19:10<57:19, 229.28s/it]  "
     ]
    },
    {
     "name": "stdout",
     "output_type": "stream",
     "text": [
      "Epoch 5:\n",
      "Train evaluation\n",
      "loss = 1.272 accuracy = 0.583, precision = 0.526, recall = 0.579, f1 = 0.503\n",
      "Validation evaluation\n",
      "loss = 1.355 accuracy = 0.513, precision = 0.458, recall = 0.674, f1 = 0.434\n",
      "\n"
     ]
    },
    {
     "name": "stderr",
     "output_type": "stream",
     "text": [
      "Epoch:  30%|███       | 6/20 [22:59<53:24, 228.92s/it]"
     ]
    },
    {
     "name": "stdout",
     "output_type": "stream",
     "text": [
      "Epoch 6:\n",
      "Train evaluation\n",
      "loss = 1.175 accuracy = 0.617, precision = 0.557, recall = 0.578, f1 = 0.533\n",
      "Validation evaluation\n",
      "loss = 1.267 accuracy = 0.558, precision = 0.501, recall = 0.664, f1 = 0.477\n",
      "\n"
     ]
    },
    {
     "name": "stderr",
     "output_type": "stream",
     "text": [
      "Epoch:  35%|███▌      | 7/20 [26:47<49:35, 228.90s/it]"
     ]
    },
    {
     "name": "stdout",
     "output_type": "stream",
     "text": [
      "Epoch 7:\n",
      "Train evaluation\n",
      "loss = 1.070 accuracy = 0.673, precision = 0.619, recall = 0.663, f1 = 0.609\n",
      "Validation evaluation\n",
      "loss = 1.214 accuracy = 0.564, precision = 0.506, recall = 0.656, f1 = 0.483\n",
      "\n"
     ]
    },
    {
     "name": "stderr",
     "output_type": "stream",
     "text": [
      "Epoch:  40%|████      | 8/20 [30:36<45:45, 228.76s/it]"
     ]
    },
    {
     "name": "stdout",
     "output_type": "stream",
     "text": [
      "Epoch 8:\n",
      "Train evaluation\n",
      "loss = 0.950 accuracy = 0.726, precision = 0.672, recall = 0.731, f1 = 0.667\n",
      "Validation evaluation\n",
      "loss = 1.121 accuracy = 0.615, precision = 0.561, recall = 0.700, f1 = 0.547\n",
      "\n"
     ]
    },
    {
     "name": "stderr",
     "output_type": "stream",
     "text": [
      "Epoch:  45%|████▌     | 9/20 [34:25<41:56, 228.74s/it]"
     ]
    },
    {
     "name": "stdout",
     "output_type": "stream",
     "text": [
      "Epoch 9:\n",
      "Train evaluation\n",
      "loss = 0.852 accuracy = 0.779, precision = 0.727, recall = 0.775, f1 = 0.719\n",
      "Validation evaluation\n",
      "loss = 1.053 accuracy = 0.647, precision = 0.593, recall = 0.726, f1 = 0.580\n",
      "\n"
     ]
    },
    {
     "name": "stderr",
     "output_type": "stream",
     "text": [
      "Epoch:  50%|█████     | 10/20 [38:14<38:08, 228.82s/it]"
     ]
    },
    {
     "name": "stdout",
     "output_type": "stream",
     "text": [
      "Epoch 10:\n",
      "Train evaluation\n",
      "loss = 0.725 accuracy = 0.834, precision = 0.787, recall = 0.835, f1 = 0.784\n",
      "Validation evaluation\n",
      "loss = 1.002 accuracy = 0.667, precision = 0.617, recall = 0.745, f1 = 0.601\n",
      "\n"
     ]
    },
    {
     "name": "stderr",
     "output_type": "stream",
     "text": [
      "Epoch:  55%|█████▌    | 11/20 [42:02<34:19, 228.82s/it]"
     ]
    },
    {
     "name": "stdout",
     "output_type": "stream",
     "text": [
      "Epoch 11:\n",
      "Train evaluation\n",
      "loss = 0.623 accuracy = 0.857, precision = 0.812, recall = 0.866, f1 = 0.812\n",
      "Validation evaluation\n",
      "loss = 0.955 accuracy = 0.686, precision = 0.636, recall = 0.758, f1 = 0.618\n",
      "\n"
     ]
    },
    {
     "name": "stderr",
     "output_type": "stream",
     "text": [
      "Epoch:  60%|██████    | 12/20 [45:51<30:30, 228.87s/it]"
     ]
    },
    {
     "name": "stdout",
     "output_type": "stream",
     "text": [
      "Epoch 12:\n",
      "Train evaluation\n",
      "loss = 0.537 accuracy = 0.887, precision = 0.850, recall = 0.893, f1 = 0.856\n",
      "Validation evaluation\n",
      "loss = 0.925 accuracy = 0.692, precision = 0.643, recall = 0.766, f1 = 0.625\n",
      "\n"
     ]
    },
    {
     "name": "stderr",
     "output_type": "stream",
     "text": [
      "Epoch:  65%|██████▌   | 13/20 [49:40<26:41, 228.80s/it]"
     ]
    },
    {
     "name": "stdout",
     "output_type": "stream",
     "text": [
      "Epoch 13:\n",
      "Train evaluation\n",
      "loss = 0.473 accuracy = 0.889, precision = 0.848, recall = 0.908, f1 = 0.850\n",
      "Validation evaluation\n",
      "loss = 0.890 accuracy = 0.705, precision = 0.665, recall = 0.745, f1 = 0.662\n",
      "\n"
     ]
    },
    {
     "name": "stderr",
     "output_type": "stream",
     "text": [
      "Epoch:  70%|███████   | 14/20 [53:29<22:52, 228.77s/it]"
     ]
    },
    {
     "name": "stdout",
     "output_type": "stream",
     "text": [
      "Epoch 14:\n",
      "Train evaluation\n",
      "loss = 0.417 accuracy = 0.902, precision = 0.868, recall = 0.901, f1 = 0.873\n",
      "Validation evaluation\n",
      "loss = 0.873 accuracy = 0.731, precision = 0.688, recall = 0.764, f1 = 0.684\n",
      "\n"
     ]
    },
    {
     "name": "stderr",
     "output_type": "stream",
     "text": [
      "Epoch:  75%|███████▌  | 15/20 [57:18<19:05, 229.02s/it]"
     ]
    },
    {
     "name": "stdout",
     "output_type": "stream",
     "text": [
      "Epoch 15:\n",
      "Train evaluation\n",
      "loss = 0.358 accuracy = 0.915, precision = 0.878, recall = 0.932, f1 = 0.883\n",
      "Validation evaluation\n",
      "loss = 0.875 accuracy = 0.705, precision = 0.661, recall = 0.721, f1 = 0.661\n",
      "\n"
     ]
    },
    {
     "name": "stderr",
     "output_type": "stream",
     "text": [
      "Epoch:  80%|████████  | 16/20 [1:01:07<15:16, 229.00s/it]"
     ]
    },
    {
     "name": "stdout",
     "output_type": "stream",
     "text": [
      "Epoch 16:\n",
      "Train evaluation\n",
      "loss = 0.320 accuracy = 0.934, precision = 0.908, recall = 0.937, f1 = 0.915\n",
      "Validation evaluation\n",
      "loss = 0.879 accuracy = 0.712, precision = 0.669, recall = 0.717, f1 = 0.664\n",
      "\n"
     ]
    },
    {
     "name": "stderr",
     "output_type": "stream",
     "text": [
      "Epoch:  85%|████████▌ | 17/20 [1:04:57<11:27, 229.23s/it]"
     ]
    },
    {
     "name": "stdout",
     "output_type": "stream",
     "text": [
      "Epoch 17:\n",
      "Train evaluation\n",
      "loss = 0.273 accuracy = 0.937, precision = 0.912, recall = 0.940, f1 = 0.919\n",
      "Validation evaluation\n",
      "loss = 0.875 accuracy = 0.718, precision = 0.676, recall = 0.725, f1 = 0.671\n",
      "\n"
     ]
    },
    {
     "name": "stderr",
     "output_type": "stream",
     "text": [
      "Epoch:  90%|█████████ | 18/20 [1:08:47<07:39, 229.52s/it]"
     ]
    },
    {
     "name": "stdout",
     "output_type": "stream",
     "text": [
      "Epoch 18:\n",
      "Train evaluation\n",
      "loss = 0.239 accuracy = 0.963, precision = 0.948, recall = 0.964, f1 = 0.953\n",
      "Validation evaluation\n",
      "loss = 0.894 accuracy = 0.718, precision = 0.674, recall = 0.737, f1 = 0.674\n",
      "\n"
     ]
    },
    {
     "name": "stderr",
     "output_type": "stream",
     "text": [
      "Epoch:  95%|█████████▌| 19/20 [1:12:38<03:49, 229.89s/it]"
     ]
    },
    {
     "name": "stdout",
     "output_type": "stream",
     "text": [
      "Epoch 19:\n",
      "Train evaluation\n",
      "loss = 0.215 accuracy = 0.971, precision = 0.960, recall = 0.972, f1 = 0.965\n",
      "Validation evaluation\n",
      "loss = 0.901 accuracy = 0.705, precision = 0.667, recall = 0.719, f1 = 0.671\n",
      "\n"
     ]
    },
    {
     "name": "stderr",
     "output_type": "stream",
     "text": [
      "Epoch: 100%|██████████| 20/20 [1:16:29<00:00, 229.49s/it]"
     ]
    },
    {
     "name": "stdout",
     "output_type": "stream",
     "text": [
      "Epoch 20:\n",
      "Train evaluation\n",
      "loss = 0.183 accuracy = 0.981, precision = 0.973, recall = 0.979, f1 = 0.976\n",
      "Validation evaluation\n",
      "loss = 0.917 accuracy = 0.718, precision = 0.678, recall = 0.728, f1 = 0.682\n",
      "\n"
     ]
    },
    {
     "name": "stderr",
     "output_type": "stream",
     "text": [
      "\n"
     ]
    }
   ],
   "source": [
    "device = torch.device('cuda' if torch.cuda.is_available() else 'cpu')\n",
    "\n",
    "# Recommended number of epochs: 2, 3, 4. See: https://arxiv.org/pdf/1810.04805.pdf\n",
    "epochs = 20\n",
    "accuracy_scores = {'train':[], 'val':[]}\n",
    "losses_scores = {'train':[], 'val':[]}\n",
    "for epoch in trange(epochs, desc = 'Epoch'):\n",
    "    \n",
    "    # ========== Training ==========\n",
    "    \n",
    "    # Set model to training mode\n",
    "    model.train()\n",
    "    \n",
    "    # Tracking variables\n",
    "    tr_loss = 0\n",
    "    nb_tr_examples, nb_tr_steps = 0, 0\n",
    "    # Tracking variables \n",
    "    true_labels = []\n",
    "    pred_labels = []\n",
    "    for step, batch in enumerate(train_dataloader):\n",
    "        batch = tuple(t.to(device) for t in batch)\n",
    "        b_input_ids, b_input_mask, b_labels = batch\n",
    "        b_labels = b_labels.type(torch.LongTensor)\n",
    "        optimizer.zero_grad()\n",
    "        # Forward pass\n",
    "        train_output = model(b_input_ids, \n",
    "                             token_type_ids = None, \n",
    "                             attention_mask = b_input_mask, \n",
    "                             labels = b_labels)\n",
    "        # Backward pass\n",
    "        train_output.loss.backward()\n",
    "        optimizer.step()\n",
    "        # Update tracking variables\n",
    "        tr_loss += train_output.loss.item()\n",
    "        nb_tr_examples += b_input_ids.size(0)\n",
    "        nb_tr_steps += 1\n",
    "        preds = torch.argmax(train_output.logits, dim=1)\n",
    "        true_labels.extend(b_labels.cpu().numpy())\n",
    "        pred_labels.extend(preds.cpu().numpy())\n",
    "    # Calculate the evaluation metrics\n",
    "    accuracy = accuracy_score(true_labels, pred_labels)\n",
    "    precision = recall_score(true_labels, pred_labels, average='macro')\n",
    "    recall = precision_score(true_labels, pred_labels, average='macro')\n",
    "    f1 = f1_score(true_labels, pred_labels, average='macro')\n",
    "    losses_scores['train'].append(tr_loss/nb_tr_steps)\n",
    "    accuracy_scores['train'].append(accuracy)\n",
    "    train_text_to_print = f'Epoch {epoch+1}:\\nTrain evaluation\\nloss = {tr_loss/nb_tr_steps:.3f} accuracy = {accuracy:.3f}, precision = {precision:.3f}, recall = {recall:.3f}, f1 = {f1:.3f}\\n'\n",
    "\n",
    "    # Set model to evaluation mode\n",
    "    model.eval()\n",
    "\n",
    "    # Tracking variables \n",
    "    true_labels = []\n",
    "    pred_labels = []\n",
    "    ts_loss = 0\n",
    "    nb_ts_steps = 0\n",
    "    for batch in validation_dataloader:\n",
    "        batch = tuple(t.to(device) for t in batch)\n",
    "        b_input_ids, b_input_mask, b_labels = batch\n",
    "        b_labels = b_labels.type(torch.LongTensor)\n",
    "        # with torch.no_grad():\n",
    "        # Forward pass\n",
    "        eval_output = model(b_input_ids, \n",
    "                            token_type_ids = None, \n",
    "                            attention_mask = b_input_mask,\n",
    "                            labels = b_labels)\n",
    "        # logits = eval_output.logits.detach().cpu().numpy()\n",
    "        label_ids = b_labels.to('cpu').numpy()\n",
    "        # Convert the logits to predictions\n",
    "        preds = torch.argmax(eval_output.logits, dim=1)\n",
    "        true_labels.extend(b_labels.cpu().numpy())\n",
    "        pred_labels.extend(preds.cpu().numpy())\n",
    "        ts_loss += eval_output.loss.item()\n",
    "        nb_ts_steps += 1\n",
    "    # Calculate the evaluation metrics\n",
    "    accuracy = accuracy_score(true_labels, pred_labels)\n",
    "    precision = recall_score(true_labels, pred_labels, average='macro')\n",
    "    recall = precision_score(true_labels, pred_labels, average='macro')\n",
    "    f1 = f1_score(true_labels, pred_labels, average='macro')\n",
    "    losses_scores['val'].append(ts_loss/nb_ts_steps)\n",
    "    accuracy_scores['val'].append(accuracy)\n",
    "    # Print the evaluation metrics\n",
    "    val_text_to_print = f'Validation evaluation\\nloss = {ts_loss/nb_ts_steps:.3f} accuracy = {accuracy:.3f}, precision = {precision:.3f}, recall = {recall:.3f}, f1 = {f1:.3f}\\n'\n",
    "    print(train_text_to_print+val_text_to_print)"
   ]
  },
  {
   "cell_type": "code",
   "execution_count": 21,
   "metadata": {},
   "outputs": [
    {
     "name": "stderr",
     "output_type": "stream",
     "text": [
      "/home/shouei/.conda/envs/bert2vec/lib/python3.8/site-packages/transformers/tokenization_utils_base.py:2226: FutureWarning: The `pad_to_max_length` argument is deprecated and will be removed in a future version, use `padding=True` or `padding='longest'` to pad to the longest sequence in the batch, or use `padding='max_length'` to pad to a max length. In this case, you can give a specific length with `max_length` (e.g. `max_length=45`) or leave max_length to None to pad to the maximal input size of the model (e.g. 512 for Bert).\n",
      "  warnings.warn(\n"
     ]
    },
    {
     "name": "stdout",
     "output_type": "stream",
     "text": [
      "Input Sentence:  Why are their eyes weird?\n",
      "Predicted Class:  ['None']\n"
     ]
    }
   ],
   "source": [
    "new_sentence = 'Why are their eyes slanted?'\n",
    "\n",
    "# We need Token IDs and Attention Mask for inference on the new sentence\n",
    "test_ids = []\n",
    "test_attention_mask = []\n",
    "\n",
    "# Apply the tokenizer\n",
    "encoding = preprocessing(new_sentence, tokenizer)\n",
    "\n",
    "# Extract IDs and Attention Mask\n",
    "test_ids.append(encoding['input_ids'])\n",
    "test_attention_mask.append(encoding['attention_mask'])\n",
    "test_ids = torch.cat(test_ids, dim = 0)\n",
    "test_attention_mask = torch.cat(test_attention_mask, dim = 0)\n",
    "\n",
    "# Forward pass, calculate logit predictions\n",
    "with torch.no_grad():\n",
    "  output = model(test_ids.to(device), token_type_ids = None, attention_mask = test_attention_mask.to(device))\n",
    "\n",
    "prediction = le.inverse_transform([output.logits.cpu().data.numpy().argmax()])\n",
    "\n",
    "\n",
    "print('Input Sentence: ', new_sentence)\n",
    "print('Predicted Class: ', prediction)"
   ]
  },
  {
   "cell_type": "code",
   "execution_count": 11,
   "metadata": {},
   "outputs": [
    {
     "data": {
      "text/plain": [
       "<AxesSubplot:title={'center':'Loss'}>"
      ]
     },
     "execution_count": 11,
     "metadata": {},
     "output_type": "execute_result"
    },
    {
     "data": {
      "image/png": "[encoded data removed]",
      "text/plain": [
       "<Figure size 720x360 with 1 Axes>"
      ]
     },
     "metadata": {
      "needs_background": "light"
     },
     "output_type": "display_data"
    }
   ],
   "source": [
    "pd.DataFrame(losses_scores).plot(title='Loss',figsize=(10,5))"
   ]
  },
  {
   "cell_type": "code",
   "execution_count": 12,
   "metadata": {},
   "outputs": [
    {
     "data": {
      "text/plain": [
       "<AxesSubplot:title={'center':'Accuracy'}>"
      ]
     },
     "execution_count": 12,
     "metadata": {},
     "output_type": "execute_result"
    },
    {
     "data": {
      "image/png": "[encoded data removed]",
      "text/plain": [
       "<Figure size 720x360 with 1 Axes>"
      ]
     },
     "metadata": {
      "needs_background": "light"
     },
     "output_type": "display_data"
    }
   ],
   "source": [
    "pd.DataFrame(accuracy_scores).plot(title='Accuracy',figsize=(10,5))"
   ]
  },
  {
   "cell_type": "code",
   "execution_count": 13,
   "metadata": {},
   "outputs": [
    {
     "data": {
      "text/plain": [
       "[1,\n",
       " 1,\n",
       " 3,\n",
       " 4,\n",
       " 4,\n",
       " 0,\n",
       " 4,\n",
       " 2,\n",
       " 0,\n",
       " 2,\n",
       " 0,\n",
       " 0,\n",
       " 4,\n",
       " 1,\n",
       " 0,\n",
       " 3,\n",
       " 4,\n",
       " 1,\n",
       " 0,\n",
       " 3,\n",
       " 1,\n",
       " 0,\n",
       " 1,\n",
       " 0,\n",
       " 1,\n",
       " 1,\n",
       " 4,\n",
       " 1,\n",
       " 1,\n",
       " 0,\n",
       " 1,\n",
       " 4,\n",
       " 2,\n",
       " 0,\n",
       " 0,\n",
       " 3,\n",
       " 3,\n",
       " 4,\n",
       " 2,\n",
       " 4,\n",
       " 4,\n",
       " 4,\n",
       " 3,\n",
       " 4,\n",
       " 1,\n",
       " 3,\n",
       " 4,\n",
       " 0,\n",
       " 4,\n",
       " 1,\n",
       " 1,\n",
       " 4,\n",
       " 3,\n",
       " 0,\n",
       " 3,\n",
       " 2,\n",
       " 1,\n",
       " 4,\n",
       " 0,\n",
       " 2,\n",
       " 3,\n",
       " 3,\n",
       " 3,\n",
       " 1,\n",
       " 2,\n",
       " 1,\n",
       " 1,\n",
       " 3,\n",
       " 4,\n",
       " 4,\n",
       " 2,\n",
       " 1,\n",
       " 0,\n",
       " 4,\n",
       " 1,\n",
       " 4,\n",
       " 1,\n",
       " 4,\n",
       " 4,\n",
       " 1,\n",
       " 2,\n",
       " 0,\n",
       " 3,\n",
       " 1,\n",
       " 4,\n",
       " 0,\n",
       " 0,\n",
       " 1,\n",
       " 1,\n",
       " 3,\n",
       " 4,\n",
       " 0,\n",
       " 0,\n",
       " 1,\n",
       " 2,\n",
       " 4,\n",
       " 1,\n",
       " 4,\n",
       " 4,\n",
       " 4,\n",
       " 1,\n",
       " 4,\n",
       " 3,\n",
       " 1,\n",
       " 1,\n",
       " 4,\n",
       " 3,\n",
       " 1,\n",
       " 3,\n",
       " 0,\n",
       " 3,\n",
       " 2,\n",
       " 0,\n",
       " 1,\n",
       " 1,\n",
       " 2,\n",
       " 2,\n",
       " 2,\n",
       " 1,\n",
       " 3,\n",
       " 3,\n",
       " 3,\n",
       " 1,\n",
       " 3,\n",
       " 1,\n",
       " 4,\n",
       " 3,\n",
       " 4,\n",
       " 1,\n",
       " 2,\n",
       " 2,\n",
       " 4,\n",
       " 2,\n",
       " 3,\n",
       " 0,\n",
       " 0,\n",
       " 4,\n",
       " 3,\n",
       " 0,\n",
       " 0,\n",
       " 0,\n",
       " 4,\n",
       " 1,\n",
       " 3,\n",
       " 4,\n",
       " 0,\n",
       " 0,\n",
       " 2,\n",
       " 3,\n",
       " 4,\n",
       " 3,\n",
       " 2,\n",
       " 3,\n",
       " 2,\n",
       " 3,\n",
       " 3]"
      ]
     },
     "execution_count": 13,
     "metadata": {},
     "output_type": "execute_result"
    }
   ],
   "source": [
    "true_labels\n"
   ]
  },
  {
   "cell_type": "code",
   "execution_count": 14,
   "metadata": {},
   "outputs": [
    {
     "data": {
      "text/plain": [
       "[4,\n",
       " 5,\n",
       " 9,\n",
       " 13,\n",
       " 14,\n",
       " 15,\n",
       " 16,\n",
       " 26,\n",
       " 32,\n",
       " 36,\n",
       " 38,\n",
       " 43,\n",
       " 48,\n",
       " 52,\n",
       " 56,\n",
       " 64,\n",
       " 70,\n",
       " 72,\n",
       " 73,\n",
       " 83,\n",
       " 85,\n",
       " 92,\n",
       " 94,\n",
       " 97,\n",
       " 102,\n",
       " 111,\n",
       " 113,\n",
       " 115,\n",
       " 116,\n",
       " 117,\n",
       " 120,\n",
       " 125,\n",
       " 126,\n",
       " 127,\n",
       " 129,\n",
       " 130,\n",
       " 132,\n",
       " 144,\n",
       " 147,\n",
       " 148,\n",
       " 152,\n",
       " 153,\n",
       " 154,\n",
       " 155]"
      ]
     },
     "execution_count": 14,
     "metadata": {},
     "output_type": "execute_result"
    }
   ],
   "source": [
    "false = [i for i in range(len(true_labels)) if true_labels[i]!=pred_labels[i]]\n",
    "false"
   ]
  },
  {
   "cell_type": "code",
   "execution_count": 15,
   "metadata": {},
   "outputs": [],
   "source": [
    "hate_df.iloc[val_idx[false]].to_csv(r'False.csv')"
   ]
  },
  {
   "cell_type": "code",
   "execution_count": null,
   "metadata": {},
   "outputs": [],
   "source": []
  }
 ],
 "metadata": {
  "kernelspec": {
   "display_name": "bert2vec",
   "language": "python",
   "name": "python3"
  },
  "language_info": {
   "codemirror_mode": {
    "name": "ipython",
    "version": 3
   },
   "file_extension": ".py",
   "mimetype": "text/x-python",
   "name": "python",
   "nbconvert_exporter": "python",
   "pygments_lexer": "ipython3",
   "version": "3.8.12"
  },
  "orig_nbformat": 4,
  "vscode": {
   "interpreter": {
    "hash": "83442504b71d914325260cede427dd3998e41b9544a3b4fab4b8796da0ce6d33"
   }
  }
 },
 "nbformat": 4,
 "nbformat_minor": 2
}
