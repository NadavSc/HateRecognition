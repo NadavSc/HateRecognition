{
 "cells": [
  {
   "cell_type": "code",
   "execution_count": 1,
   "metadata": {
    "pycharm": {
     "is_executing": true,
     "name": "#%%\n"
    }
   },
   "outputs": [],
   "source": [
    "\n",
    "import torch\n",
    "from torch.utils.data import TensorDataset, DataLoader, RandomSampler, SequentialSampler\n",
    "from transformers import BertTokenizer, BertForSequenceClassification, BertConfig\n",
    "from sklearn.model_selection import train_test_split\n",
    "from collections import Counter\n",
    "import pandas as pd\n",
    "import numpy as np\n",
    "import json\n",
    "from tabulate import tabulate\n",
    "from tqdm import trange\n",
    "import random\n",
    "import seaborn as sns\n",
    "from sklearn.metrics import classification_report, recall_score,precision_score , f1_score, accuracy_score\n",
    "import sys\n",
    "# sys.path.append(\"HateRecognition/target_model/\")\n",
    "from utils import preprocessing, load_anno_data, data_loader, define_target, create_model\n",
    "from bertopic import BERTopic\n",
    "\n",
    "from sklearn.feature_extraction.text import CountVectorizer\n",
    "from umap import UMAP\n",
    "from sklearn.model_selection import StratifiedKFold\n",
    "from hdbscan import HDBSCAN\n",
    "from sklearn.metrics import confusion_matrix\n",
    "sys.path.append(r\"/sise/home/shouei/HateRecognition/target_model/TopicTuner/\")\n",
    "from topictuner import TopicModelTuner as TMT\n",
    "# torch.cuda.empty_cache()\n"
   ]
  },
  {
   "cell_type": "code",
   "execution_count": 11,
   "metadata": {
    "scrolled": true
   },
   "outputs": [
    {
     "data": {
      "text/plain": [
       "['/sise/home/shouei/HateRecognition/target_model',\n",
       " '/home/shouei/.conda/envs/bert2vec/lib/python38.zip',\n",
       " '/home/shouei/.conda/envs/bert2vec/lib/python3.8',\n",
       " '/home/shouei/.conda/envs/bert2vec/lib/python3.8/lib-dynload',\n",
       " '',\n",
       " '/home/shouei/.conda/envs/bert2vec/lib/python3.8/site-packages',\n",
       " '/sise/home/shouei/HateRecognition/target_model/TopicTuner/',\n",
       " './HateRecognition/data/',\n",
       " '/sise/home/shouei/HateRecognition/data/',\n",
       " '/sise/home/shouei/HateRecognition/data/',\n",
       " '',\n",
       " './HateRecognition/data/',\n",
       " '/sise/home/shouei/HateRecognition/data/']"
      ]
     },
     "execution_count": 11,
     "metadata": {},
     "output_type": "execute_result"
    }
   ],
   "source": [
    "sys.path"
   ]
  },
  {
   "cell_type": "code",
   "execution_count": 91,
   "metadata": {
    "pycharm": {
     "is_executing": true,
     "name": "#%%\n"
    }
   },
   "outputs": [],
   "source": [
    "\n",
    "\n",
    "\n",
    "# df = load_anno_data()\n",
    "# sys.path.append(\"/sise/home/shouei/HateRecognition/data/\")\n",
    "df = pd.read_csv(r'../data/annotated_target_topic_data.csv')\n",
    "# df = pd.read_csv(r'./HateRecognition/data/annotated_target_topic_data.csv')\n",
    "hate_df = df[df['label']=='hatespeech'].reset_index()\n",
    "# docs = [' '.join(x) for x in df.tokens.values]\n",
    "# hate_df = hate_df[hate_df['target'].isin({'Asian', 'Other', 'None', 'Women', 'Hispanic'})]\n",
    "hate_df.loc[hate_df['target']=='Arab','target'] = 'Islam'\n",
    "labels_counter = Counter(hate_df.target.tolist())\n",
    "# hate_df[~hate_df['target'].isin(x[0] for x in labels_counter.most_common(4))] = 'other'\n",
    "# hate_df = hate_df[hate_df['target'].isin(x[0] for x in labels_counter.most_common(4))]\n",
    "# hate_df.to_csv(\"./HateRecognition/data/filtered_hatexplain_data.csv\")"
   ]
  },
  {
   "cell_type": "code",
   "execution_count": 92,
   "metadata": {},
   "outputs": [],
   "source": [
    "hate_df.loc[~ hate_df['target'].isin(x[0] for x in labels_counter.most_common(4)),'target'] = 'other'"
   ]
  },
  {
   "cell_type": "code",
   "execution_count": 78,
   "metadata": {},
   "outputs": [],
   "source": [
    "# hate_df = pd.read_csv(r'../data/filtered_hatexplain_data.csv')\n"
   ]
  },
  {
   "cell_type": "code",
   "execution_count": 93,
   "metadata": {
    "pycharm": {
     "name": "#%%\n"
    }
   },
   "outputs": [
    {
     "name": "stdout",
     "output_type": "stream",
     "text": [
      "['other' 'Jewish' 'African' 'Islam' 'Homosexual']\n"
     ]
    }
   ],
   "source": [
    "import sklearn\n",
    "le = sklearn.preprocessing.LabelEncoder()\n",
    "text = hate_df.text.values\n",
    "print(hate_df.target.unique())\n",
    "labels = le.fit_transform(hate_df.target.values)\n",
    "unique_labels= list(set(labels))\n",
    "num_labels= len(unique_labels)"
   ]
  },
  {
   "cell_type": "code",
   "execution_count": 94,
   "metadata": {},
   "outputs": [
    {
     "data": {
      "text/plain": [
       "array([0, 1, 2, 3])"
      ]
     },
     "execution_count": 94,
     "metadata": {},
     "output_type": "execute_result"
    }
   ],
   "source": [
    "le.transform(['African', 'Homosexual', 'Islam', 'Jewish'])"
   ]
  },
  {
   "cell_type": "code",
   "execution_count": 99,
   "metadata": {
    "pycharm": {
     "name": "#%%\n"
    }
   },
   "outputs": [],
   "source": [
    "topic_model = BERTopic.load('../target_model/topic_model')\n",
    "topics, probs = topic_model.transform(text)\n",
    "hate_df['topic'] = topics"
   ]
  },
  {
   "cell_type": "code",
   "execution_count": 84,
   "metadata": {},
   "outputs": [
    {
     "data": {
      "text/plain": [
       "{-1: '-1_sheboon_anglin_sheboons_nigger',\n",
       " 0: '0_nigger_niggers_white_like',\n",
       " 1: '1_kike_jews_white_jew',\n",
       " 2: '2_moslem_muslim_sand_user',\n",
       " 3: '3_faggots_faggot_queers_dykes'}"
      ]
     },
     "execution_count": 84,
     "metadata": {},
     "output_type": "execute_result"
    }
   ],
   "source": [
    "topic_model.topic_names"
   ]
  },
  {
   "cell_type": "code",
   "execution_count": 85,
   "metadata": {
    "pycharm": {
     "is_executing": true,
     "name": "#%%\n"
    }
   },
   "outputs": [
    {
     "data": {
      "text/plain": [
       "Counter({3: 1131, 0: 2125, 2: 1387, 1: 538})"
      ]
     },
     "execution_count": 85,
     "metadata": {},
     "output_type": "execute_result"
    }
   ],
   "source": [
    "Counter(labels.tolist())"
   ]
  },
  {
   "cell_type": "code",
   "execution_count": 95,
   "metadata": {
    "pycharm": {
     "name": "#%%\n"
    }
   },
   "outputs": [],
   "source": [
    "tokenizer = BertTokenizer.from_pretrained(\n",
    "    'bert-base-uncased',\n",
    "    do_lower_case = True,\n",
    "    truncation=True\n",
    "    )"
   ]
  },
  {
   "cell_type": "code",
   "execution_count": 100,
   "metadata": {},
   "outputs": [
    {
     "name": "stdout",
     "output_type": "stream",
     "text": [
      "165\n"
     ]
    }
   ],
   "source": [
    "token_id = []\n",
    "attention_masks = []\n",
    "with_topic=True\n",
    "MAX_LEN = max([len(x.split()) for x in text])\n",
    "print(MAX_LEN)\n",
    "for i, sample in enumerate(text):\n",
    "  topic_name = None\n",
    "  if with_topic:\n",
    "    topic_id = topics[i]\n",
    "    topic_name = topic_model.topic_names[topic_id]\n",
    "    topic_name = ' '.join(topic_name.split('_')[1:])\n",
    "  encoding_dict = preprocessing(sample,tokenizer, MAX_LEN, topic_name)\n",
    "  token_id.append(encoding_dict['input_ids']) \n",
    "  attention_masks.append(encoding_dict['attention_mask'])\n",
    "\n",
    "\n",
    "token_id = torch.cat(token_id, dim = 0)\n",
    "attention_masks = torch.cat(attention_masks, dim = 0)\n",
    "labels = torch.tensor(labels)"
   ]
  },
  {
   "cell_type": "code",
   "execution_count": 101,
   "metadata": {
    "pycharm": {
     "name": "#%%\n"
    }
   },
   "outputs": [],
   "source": [
    "n=5\n",
    "seed = 42\n",
    "kf = StratifiedKFold(n_splits=n, random_state=seed, shuffle=True)\n",
    "is_kf = False\n",
    "val_ratio = 0.2\n",
    "# Recommended batch size: 16, 32. See: https://arxiv.org/pdf/1810.04805.pdf\n",
    "batch_size = 16\n",
    "\n",
    "# Indices of the train and validation splits stratified by labels\n",
    "train_idx, val_idx = train_test_split(\n",
    "    np.arange(len(labels)),\n",
    "    test_size = val_ratio,\n",
    "    shuffle = True,\n",
    "    stratify = labels)\n",
    "if is_kf:\n",
    "    split_range = kf.split(text, labels)\n",
    "else:\n",
    "    split_range = [(train_idx, val_idx)]\n"
   ]
  },
  {
   "cell_type": "code",
   "execution_count": 102,
   "metadata": {
    "pycharm": {
     "is_executing": true,
     "name": "#%%\n"
    },
    "scrolled": false
   },
   "outputs": [
    {
     "name": "stdout",
     "output_type": "stream",
     "text": [
      "cuda\n"
     ]
    },
    {
     "name": "stderr",
     "output_type": "stream",
     "text": [
      "Some weights of the model checkpoint at bert-base-uncased were not used when initializing BertForSequenceClassification: ['cls.seq_relationship.weight', 'cls.predictions.transform.dense.bias', 'cls.predictions.bias', 'cls.predictions.decoder.weight', 'cls.seq_relationship.bias', 'cls.predictions.transform.dense.weight', 'cls.predictions.transform.LayerNorm.weight', 'cls.predictions.transform.LayerNorm.bias']\n",
      "- This IS expected if you are initializing BertForSequenceClassification from the checkpoint of a model trained on another task or with another architecture (e.g. initializing a BertForSequenceClassification model from a BertForPreTraining model).\n",
      "- This IS NOT expected if you are initializing BertForSequenceClassification from the checkpoint of a model that you expect to be exactly identical (initializing a BertForSequenceClassification model from a BertForSequenceClassification model).\n",
      "Some weights of BertForSequenceClassification were not initialized from the model checkpoint at bert-base-uncased and are newly initialized: ['classifier.weight', 'classifier.bias']\n",
      "You should probably TRAIN this model on a down-stream task to be able to use it for predictions and inference.\n",
      "Epoch:  10%|█         | 1/10 [00:30<04:32, 30.24s/it]"
     ]
    },
    {
     "name": "stdout",
     "output_type": "stream",
     "text": [
      "Epoch 1:\n",
      "Train evaluation\n",
      "loss = 1.170 accuracy = 0.546, precision = 0.448, recall = 0.500, f1 = 0.430\n",
      "Validation evaluation\n",
      "loss = 0.861 accuracy = 0.706, precision = 0.668, recall = 0.673, f1 = 0.634\n",
      "\n"
     ]
    },
    {
     "name": "stderr",
     "output_type": "stream",
     "text": [
      "\r",
      "Epoch:  20%|██        | 2/10 [01:00<04:04, 30.52s/it]"
     ]
    },
    {
     "name": "stdout",
     "output_type": "stream",
     "text": [
      "Epoch 2:\n",
      "Train evaluation\n",
      "loss = 0.725 accuracy = 0.753, precision = 0.723, recall = 0.718, f1 = 0.707\n",
      "Validation evaluation\n",
      "loss = 0.625 accuracy = 0.790, precision = 0.766, recall = 0.767, f1 = 0.764\n",
      "\n"
     ]
    },
    {
     "name": "stderr",
     "output_type": "stream",
     "text": [
      "\r",
      "Epoch:  30%|███       | 3/10 [01:31<03:34, 30.59s/it]"
     ]
    },
    {
     "name": "stdout",
     "output_type": "stream",
     "text": [
      "Epoch 3:\n",
      "Train evaluation\n",
      "loss = 0.530 accuracy = 0.829, precision = 0.804, recall = 0.805, f1 = 0.803\n",
      "Validation evaluation\n",
      "loss = 0.531 accuracy = 0.833, precision = 0.797, recall = 0.821, f1 = 0.806\n",
      "\n"
     ]
    },
    {
     "name": "stderr",
     "output_type": "stream",
     "text": [
      "\r",
      "Epoch:  40%|████      | 4/10 [02:02<03:03, 30.66s/it]"
     ]
    },
    {
     "name": "stdout",
     "output_type": "stream",
     "text": [
      "Epoch 4:\n",
      "Train evaluation\n",
      "loss = 0.417 accuracy = 0.873, precision = 0.850, recall = 0.860, f1 = 0.854\n",
      "Validation evaluation\n",
      "loss = 0.521 accuracy = 0.840, precision = 0.811, recall = 0.831, f1 = 0.817\n",
      "\n"
     ]
    },
    {
     "name": "stderr",
     "output_type": "stream",
     "text": [
      "\r",
      "Epoch:  50%|█████     | 5/10 [02:33<02:33, 30.71s/it]"
     ]
    },
    {
     "name": "stdout",
     "output_type": "stream",
     "text": [
      "Epoch 5:\n",
      "Train evaluation\n",
      "loss = 0.341 accuracy = 0.897, precision = 0.879, recall = 0.888, f1 = 0.882\n",
      "Validation evaluation\n",
      "loss = 0.490 accuracy = 0.857, precision = 0.826, recall = 0.848, f1 = 0.833\n",
      "\n"
     ]
    },
    {
     "name": "stderr",
     "output_type": "stream",
     "text": [
      "\r",
      "Epoch:  60%|██████    | 6/10 [03:04<02:02, 30.75s/it]"
     ]
    },
    {
     "name": "stdout",
     "output_type": "stream",
     "text": [
      "Epoch 6:\n",
      "Train evaluation\n",
      "loss = 0.282 accuracy = 0.914, precision = 0.899, recall = 0.906, f1 = 0.902\n",
      "Validation evaluation\n",
      "loss = 0.513 accuracy = 0.852, precision = 0.839, recall = 0.841, f1 = 0.834\n",
      "\n"
     ]
    },
    {
     "name": "stderr",
     "output_type": "stream",
     "text": [
      "\r",
      "Epoch:  70%|███████   | 7/10 [03:34<01:32, 30.77s/it]"
     ]
    },
    {
     "name": "stdout",
     "output_type": "stream",
     "text": [
      "Epoch 7:\n",
      "Train evaluation\n",
      "loss = 0.236 accuracy = 0.931, precision = 0.918, recall = 0.928, f1 = 0.922\n",
      "Validation evaluation\n",
      "loss = 0.503 accuracy = 0.855, precision = 0.830, recall = 0.845, f1 = 0.835\n",
      "\n"
     ]
    },
    {
     "name": "stderr",
     "output_type": "stream",
     "text": [
      "\r",
      "Epoch:  80%|████████  | 8/10 [04:05<01:01, 30.78s/it]"
     ]
    },
    {
     "name": "stdout",
     "output_type": "stream",
     "text": [
      "Epoch 8:\n",
      "Train evaluation\n",
      "loss = 0.198 accuracy = 0.942, precision = 0.932, recall = 0.940, f1 = 0.935\n",
      "Validation evaluation\n",
      "loss = 0.563 accuracy = 0.843, precision = 0.820, recall = 0.831, f1 = 0.821\n",
      "\n"
     ]
    },
    {
     "name": "stderr",
     "output_type": "stream",
     "text": [
      "\r",
      "Epoch:  90%|█████████ | 9/10 [04:36<00:30, 30.81s/it]"
     ]
    },
    {
     "name": "stdout",
     "output_type": "stream",
     "text": [
      "Epoch 9:\n",
      "Train evaluation\n",
      "loss = 0.160 accuracy = 0.957, precision = 0.951, recall = 0.955, f1 = 0.952\n",
      "Validation evaluation\n",
      "loss = 0.581 accuracy = 0.839, precision = 0.817, recall = 0.825, f1 = 0.819\n",
      "\n"
     ]
    },
    {
     "name": "stderr",
     "output_type": "stream",
     "text": [
      "Epoch: 100%|██████████| 10/10 [05:07<00:00, 30.74s/it]"
     ]
    },
    {
     "name": "stdout",
     "output_type": "stream",
     "text": [
      "Epoch 10:\n",
      "Train evaluation\n",
      "loss = 0.133 accuracy = 0.964, precision = 0.958, recall = 0.964, f1 = 0.961\n",
      "Validation evaluation\n",
      "loss = 0.673 accuracy = 0.827, precision = 0.807, recall = 0.815, f1 = 0.809\n",
      "\n"
     ]
    },
    {
     "name": "stderr",
     "output_type": "stream",
     "text": [
      "\n"
     ]
    }
   ],
   "source": [
    "import gc\n",
    "epochs = 10\n",
    "device = torch.device('cuda' if torch.cuda.is_available() else 'cpu')\n",
    "print(device)\n",
    "# Run on GPU\n",
    "# Recommended number of epochs: 2, 3, 4. See: https://arxiv.org/pdf/1810.04805.pdf\n",
    "results = []\n",
    "for train_idx, val_idx in split_range:\n",
    "    torch.cuda.empty_cache()\n",
    "    gc.collect()\n",
    "    model, optimizer = create_model(num_labels)\n",
    "    model = model.to(device)\n",
    "    train_dataloader, validation_dataloader = data_loader(token_id, attention_masks, labels, train_idx, val_idx, batch_size)\n",
    "    accuracy_scores = {'train':[], 'val':[]}\n",
    "    losses_scores = {'train':[], 'val':[]}\n",
    "    for epoch in trange(epochs, desc = 'Epoch'):\n",
    "\n",
    "        # ========== Training ==========\n",
    "\n",
    "        # Set model to training mode\n",
    "        model.train()\n",
    "\n",
    "        # Tracking variables\n",
    "        tr_loss = 0\n",
    "        nb_tr_examples, nb_tr_steps = 0, 0\n",
    "        # Tracking variables \n",
    "        true_labels = []\n",
    "        pred_labels = []\n",
    "        for step, batch in enumerate(train_dataloader):\n",
    "            batch = tuple(t.to(device) for t in batch)\n",
    "            b_input_ids, b_input_mask, b_labels = batch\n",
    "            # b_labels = b_labels.type(torch.LongTensor)\n",
    "            optimizer.zero_grad()\n",
    "            # Forward pass\n",
    "            train_output = model(b_input_ids, \n",
    "                                 token_type_ids = None, \n",
    "                                 attention_mask = b_input_mask, \n",
    "                                 labels = b_labels)\n",
    "            # Backward pass\n",
    "            train_output.loss.backward()\n",
    "            optimizer.step()\n",
    "            # Update tracking variables\n",
    "            \n",
    "            \n",
    "            \n",
    "#             class_weights=class_weight.compute_class_weight('balanced',np.unique(y),y.numpy())\n",
    "#             class_weights=torch.tensor(class_weights,dtype=torch.float)\n",
    "\n",
    "#             print(class_weights) #([1.0000, 1.0000, 4.0000, 1.0000, 0.5714])\n",
    "#             logits = outputs['logits']\n",
    "#             criterion = torch.nn.CrossEntropyLoss(weights=class_weights)\n",
    "#             loss = criterion(logits, inputs['labels'])\n",
    "            \n",
    "            \n",
    "            \n",
    "            tr_loss += train_output.loss.item()\n",
    "            nb_tr_examples += b_input_ids.size(0)\n",
    "            nb_tr_steps += 1\n",
    "            preds = torch.argmax(train_output.logits, dim=1)\n",
    "            true_labels.extend(b_labels.cpu().numpy())\n",
    "            pred_labels.extend(preds.cpu().numpy())\n",
    "        # Calculate the evaluation metrics\n",
    "        tr_accuracy = accuracy_score(true_labels, pred_labels)\n",
    "        precision = recall_score(true_labels, pred_labels, average='macro')\n",
    "        recall = precision_score(true_labels, pred_labels, average='macro')\n",
    "        f1 = f1_score(true_labels, pred_labels, average='macro')\n",
    "        losses_scores['train'].append(tr_loss/nb_tr_steps)\n",
    "        accuracy_scores['train'].append(tr_accuracy)\n",
    "        train_text_to_print = f'Epoch {epoch+1}:\\nTrain evaluation\\nloss = {tr_loss/nb_tr_steps:.3f} accuracy = {tr_accuracy:.3f}, precision = {precision:.3f}, recall = {recall:.3f}, f1 = {f1:.3f}\\n'\n",
    "\n",
    "        # Set model to evaluation mode\n",
    "        model.eval()\n",
    "\n",
    "        # Tracking variables \n",
    "        true_labels = []\n",
    "        pred_labels = []\n",
    "        ts_loss = 0\n",
    "        nb_ts_steps = 0\n",
    "        for batch in validation_dataloader:\n",
    "            batch = tuple(t.to(device) for t in batch)\n",
    "            b_input_ids, b_input_mask, b_labels = batch\n",
    "            # b_labels = b_labels.type(torch.LongTensor)\n",
    "            # with torch.no_grad():\n",
    "            # Forward pass\n",
    "            eval_output = model(b_input_ids, \n",
    "                                token_type_ids = None, \n",
    "                                attention_mask = b_input_mask,\n",
    "                                labels = b_labels)\n",
    "            # logits = eval_output.logits.detach().cpu().numpy()\n",
    "            # label_ids = b_labels.to('cpu').numpy()\n",
    "            # Convert the logits to predictions\n",
    "            preds = torch.argmax(eval_output.logits, dim=1)\n",
    "            true_labels.extend(b_labels.cpu().numpy())\n",
    "            pred_labels.extend(preds.cpu().numpy())\n",
    "            ts_loss += eval_output.loss.item()\n",
    "            nb_ts_steps += 1\n",
    "        # Calculate the evaluation metrics\n",
    "        ts_accuracy = accuracy_score(true_labels, pred_labels)\n",
    "        precision = recall_score(true_labels, pred_labels, average='macro')\n",
    "        recall = precision_score(true_labels, pred_labels, average='macro')\n",
    "        f1 = f1_score(true_labels, pred_labels, average='macro')\n",
    "        losses_scores['val'].append(ts_loss/nb_ts_steps)\n",
    "        accuracy_scores['val'].append(ts_accuracy)\n",
    "        # Print the evaluation metrics\n",
    "        val_text_to_print = f'Validation evaluation\\nloss = {ts_loss/nb_ts_steps:.3f} accuracy = {ts_accuracy:.3f}, precision = {precision:.3f}, recall = {recall:.3f}, f1 = {f1:.3f}\\n'\n",
    "        print(train_text_to_print+val_text_to_print)\n",
    "    if epoch<epochs-1:\n",
    "        del model\n",
    "        del train_output\n",
    "        del eval_output\n",
    "    results.append((tr_accuracy, ts_accuracy))"
   ]
  },
  {
   "cell_type": "code",
   "execution_count": 108,
   "metadata": {},
   "outputs": [],
   "source": [
    "model.save_pretrained('finetune_topic_no_other')"
   ]
  },
  {
   "cell_type": "code",
   "execution_count": null,
   "metadata": {},
   "outputs": [],
   "source": []
  },
  {
   "cell_type": "code",
   "execution_count": 105,
   "metadata": {},
   "outputs": [
    {
     "data": {
      "image/png": "[encoded data removed]",
      "text/plain": [
       "<Figure size 640x480 with 2 Axes>"
      ]
     },
     "metadata": {},
     "output_type": "display_data"
    }
   ],
   "source": [
    "cf_matrix = confusion_matrix(le.inverse_transform(true_labels), le.inverse_transform(pred_labels), labels=le.classes_)\n",
    "cf_matrix = pd.DataFrame(cf_matrix, columns=le.classes_, index=le.classes_)\n",
    "import matplotlib.pyplot as plt  \n",
    "ax= plt.subplot()\n",
    "sns.heatmap(cf_matrix/np.sum(cf_matrix, axis=1), annot=True, ax=ax)\n",
    "ax.set_xlabel('Predicted labels');ax.set_ylabel('True labels'); "
   ]
  },
  {
   "cell_type": "code",
   "execution_count": null,
   "metadata": {},
   "outputs": [
    {
     "data": {
      "text/plain": [
       "1037"
      ]
     },
     "execution_count": 117,
     "metadata": {},
     "output_type": "execute_result"
    }
   ],
   "source": [
    "len(true_labels)"
   ]
  },
  {
   "cell_type": "code",
   "execution_count": null,
   "metadata": {},
   "outputs": [
    {
     "data": {
      "text/plain": [
       "0.9200415368639667"
      ]
     },
     "execution_count": 45,
     "metadata": {},
     "output_type": "execute_result"
    }
   ],
   "source": [
    "sum([true_labels[i]==pred_labels[i] for i in range(len(true_labels))])/len(true_labels)"
   ]
  },
  {
   "cell_type": "code",
   "execution_count": null,
   "metadata": {},
   "outputs": [
    {
     "data": {
      "text/plain": [
       "tr_acc     0.988309\n",
       "val_acc    0.919003\n",
       "dtype: float64"
      ]
     },
     "execution_count": 30,
     "metadata": {},
     "output_type": "execute_result"
    }
   ],
   "source": [
    "pd.DataFrame(results, columns=['tr_acc', 'val_acc']).mean(axis=0)"
   ]
  },
  {
   "cell_type": "code",
   "execution_count": null,
   "metadata": {
    "pycharm": {
     "name": "#%%\n"
    }
   },
   "outputs": [
    {
     "name": "stdout",
     "output_type": "stream",
     "text": [
      "Tue Jan 17 15:10:23 2023 Worst tree score: 0.19185485\n",
      "Tue Jan 17 15:10:23 2023 Mean tree score: 0.20397178\n",
      "Tue Jan 17 15:10:23 2023 Best tree score: 0.21212121\n",
      "Tue Jan 17 15:10:23 2023 Forward diversification reduced edges from 25905 to 16687\n",
      "Tue Jan 17 15:10:23 2023 Reverse diversification reduced edges from 16687 to 16687\n",
      "Tue Jan 17 15:10:23 2023 Degree pruning reduced edges from 18344 to 17680\n",
      "Tue Jan 17 15:10:23 2023 Resorting data and graph based on tree order\n",
      "Tue Jan 17 15:10:23 2023 Building and compiling search function\n"
     ]
    },
    {
     "data": {
      "application/vnd.jupyter.widget-view+json": {
       "model_id": "54a6955671c5484281d80a72f766d991",
       "version_major": 2,
       "version_minor": 0
      },
      "text/plain": [
       "Epochs completed:   0%|            0/100 [00:00]"
      ]
     },
     "metadata": {},
     "output_type": "display_data"
    },
    {
     "name": "stdout",
     "output_type": "stream",
     "text": [
      "Input Sentence:  all they think about it is rap, guns and drugs\n",
      "Predicted Class:  ['African']\n",
      "Topic name:  0_nigger_white_niggers_number\n"
     ]
    }
   ],
   "source": [
    "new_sentence = 'all they think about it is rap, guns and drugs'\n",
    "topic_id = topic_model.transform([new_sentence])[0][0]\n",
    "topic_name = topic_model.topic_names[topic_id]\n",
    "encoding_dict = preprocessing(new_sentence, tokenizer, MAX_LEN, topic_name)\n",
    "# We need Token IDs and Attention Mask for inference on the new sentence\n",
    "test_ids = []\n",
    "test_attention_mask = []\n",
    "\n",
    "\n",
    "# Extract IDs and Attention Mask\n",
    "test_ids.append(encoding_dict['input_ids'])\n",
    "test_attention_mask.append(encoding_dict['attention_mask'])\n",
    "test_ids = torch.cat(test_ids, dim = 0)\n",
    "test_attention_mask = torch.cat(test_attention_mask, dim = 0)\n",
    "\n",
    "# Forward pass, calculate logit predictions\n",
    "with torch.no_grad():\n",
    "  output = model(test_ids.to(device), token_type_ids = None, attention_mask = test_attention_mask.to(device))\n",
    "\n",
    "prediction = le.inverse_transform([output.logits.cpu().data.numpy().argmax()])\n",
    "\n",
    "\n",
    "print('Input Sentence: ', new_sentence)\n",
    "print('Predicted Class: ', prediction)\n",
    "print(\"Topic name: \", topic_name)"
   ]
  },
  {
   "cell_type": "code",
   "execution_count": 106,
   "metadata": {
    "pycharm": {
     "name": "#%%\n"
    }
   },
   "outputs": [
    {
     "data": {
      "text/plain": [
       "<AxesSubplot:title={'center':'Loss'}>"
      ]
     },
     "execution_count": 106,
     "metadata": {},
     "output_type": "execute_result"
    },
    {
     "data": {
      "image/png": "[encoded data removed]",
      "text/plain": [
       "<Figure size 1000x500 with 1 Axes>"
      ]
     },
     "metadata": {},
     "output_type": "display_data"
    }
   ],
   "source": [
    "pd.DataFrame(losses_scores).plot(title='Loss',figsize=(10,5))"
   ]
  },
  {
   "cell_type": "code",
   "execution_count": 107,
   "metadata": {
    "pycharm": {
     "name": "#%%\n"
    }
   },
   "outputs": [
    {
     "data": {
      "text/plain": [
       "<AxesSubplot:title={'center':'Accuracy'}>"
      ]
     },
     "execution_count": 107,
     "metadata": {},
     "output_type": "execute_result"
    },
    {
     "data": {
      "image/png": "[encoded data removed]",
      "text/plain": [
       "<Figure size 1000x500 with 1 Axes>"
      ]
     },
     "metadata": {},
     "output_type": "display_data"
    }
   ],
   "source": [
    "pd.DataFrame(accuracy_scores).plot(title='Accuracy',figsize=(10,5))"
   ]
  },
  {
   "cell_type": "code",
   "execution_count": null,
   "metadata": {},
   "outputs": [
    {
     "data": {
      "text/html": [
       "<div>\n",
       "<style scoped>\n",
       "    .dataframe tbody tr th:only-of-type {\n",
       "        vertical-align: middle;\n",
       "    }\n",
       "\n",
       "    .dataframe tbody tr th {\n",
       "        vertical-align: top;\n",
       "    }\n",
       "\n",
       "    .dataframe thead th {\n",
       "        text-align: right;\n",
       "    }\n",
       "</style>\n",
       "<table border=\"1\" class=\"dataframe\">\n",
       "  <thead>\n",
       "    <tr style=\"text-align: right;\">\n",
       "      <th></th>\n",
       "      <th>index</th>\n",
       "      <th>Unnamed: 0</th>\n",
       "      <th>label</th>\n",
       "      <th>target</th>\n",
       "      <th>tokens</th>\n",
       "      <th>text</th>\n",
       "      <th>topics</th>\n",
       "      <th>topic</th>\n",
       "    </tr>\n",
       "  </thead>\n",
       "  <tbody>\n",
       "    <tr>\n",
       "      <th>2</th>\n",
       "      <td>5</td>\n",
       "      <td>13851720_gab</td>\n",
       "      <td>hatespeech</td>\n",
       "      <td>Jewish</td>\n",
       "      <td>['laura', 'loomer', 'raped', 'me', 'while', 's...</td>\n",
       "      <td>laura loomer raped me while screaming at me in...</td>\n",
       "      <td>-1_the_to_and_is</td>\n",
       "      <td>2</td>\n",
       "    </tr>\n",
       "    <tr>\n",
       "      <th>3</th>\n",
       "      <td>6</td>\n",
       "      <td>24198545_gab</td>\n",
       "      <td>hatespeech</td>\n",
       "      <td>African</td>\n",
       "      <td>['and', 'this', 'is', 'why', 'i', 'end', 'up',...</td>\n",
       "      <td>and this is why i end up with nigger trainee d...</td>\n",
       "      <td>1_nigger_niggers_the_you</td>\n",
       "      <td>0</td>\n",
       "    </tr>\n",
       "    <tr>\n",
       "      <th>4</th>\n",
       "      <td>8</td>\n",
       "      <td>19679648_gab</td>\n",
       "      <td>hatespeech</td>\n",
       "      <td>African</td>\n",
       "      <td>['guilty', 'until', 'proven', 'innocent', 'unl...</td>\n",
       "      <td>guilty until proven innocent unless you are a ...</td>\n",
       "      <td>3_white_user_the_and</td>\n",
       "      <td>1</td>\n",
       "    </tr>\n",
       "    <tr>\n",
       "      <th>5</th>\n",
       "      <td>9</td>\n",
       "      <td>15858421_gab</td>\n",
       "      <td>hatespeech</td>\n",
       "      <td>African</td>\n",
       "      <td>['tired', 'i', 'can', 'not', 'support', 'abort...</td>\n",
       "      <td>tired i can not support abortion from a moral ...</td>\n",
       "      <td>9_raped_user_women_and</td>\n",
       "      <td>0</td>\n",
       "    </tr>\n",
       "    <tr>\n",
       "      <th>6</th>\n",
       "      <td>10</td>\n",
       "      <td>23844035_gab</td>\n",
       "      <td>hatespeech</td>\n",
       "      <td>Islam</td>\n",
       "      <td>['&lt;number&gt;', '&lt;number&gt;', '&lt;percent&gt;', 'of', 'b...</td>\n",
       "      <td>&lt;number&gt; &lt;number&gt; &lt;percent&gt; of brits think mul...</td>\n",
       "      <td>0_muslim_the_to_and</td>\n",
       "      <td>2</td>\n",
       "    </tr>\n",
       "    <tr>\n",
       "      <th>...</th>\n",
       "      <td>...</td>\n",
       "      <td>...</td>\n",
       "      <td>...</td>\n",
       "      <td>...</td>\n",
       "      <td>...</td>\n",
       "      <td>...</td>\n",
       "      <td>...</td>\n",
       "      <td>...</td>\n",
       "    </tr>\n",
       "    <tr>\n",
       "      <th>6227</th>\n",
       "      <td>20122</td>\n",
       "      <td>9844694_gab</td>\n",
       "      <td>hatespeech</td>\n",
       "      <td>Jewish</td>\n",
       "      <td>['this', 'is', 'pretty', 'much', 'the', 'concl...</td>\n",
       "      <td>this is pretty much the conclusion of the fran...</td>\n",
       "      <td>2_jews_the_arabs_of</td>\n",
       "      <td>1</td>\n",
       "    </tr>\n",
       "    <tr>\n",
       "      <th>6228</th>\n",
       "      <td>20123</td>\n",
       "      <td>9845733_gab</td>\n",
       "      <td>hatespeech</td>\n",
       "      <td>Jewish</td>\n",
       "      <td>['do', 'not', 'for', 'get', 'my', 'followers',...</td>\n",
       "      <td>do not for get my followers the jews have decl...</td>\n",
       "      <td>2_jews_the_arabs_of</td>\n",
       "      <td>1</td>\n",
       "    </tr>\n",
       "    <tr>\n",
       "      <th>6229</th>\n",
       "      <td>20128</td>\n",
       "      <td>9867117_gab</td>\n",
       "      <td>hatespeech</td>\n",
       "      <td>Islam</td>\n",
       "      <td>['well', 'my', 'dear', 'lgbtq', 'brothers', 'a...</td>\n",
       "      <td>well my dear lgbtq brothers and sisters i do n...</td>\n",
       "      <td>0_muslim_the_to_and</td>\n",
       "      <td>2</td>\n",
       "    </tr>\n",
       "    <tr>\n",
       "      <th>6230</th>\n",
       "      <td>20134</td>\n",
       "      <td>9875482_gab</td>\n",
       "      <td>hatespeech</td>\n",
       "      <td>African</td>\n",
       "      <td>['c', 'mon', 'men', 'charge', 'it', 'for', 'th...</td>\n",
       "      <td>c mon men charge it for the gays trannies musl...</td>\n",
       "      <td>0_muslim_the_to_and</td>\n",
       "      <td>3</td>\n",
       "    </tr>\n",
       "    <tr>\n",
       "      <th>6231</th>\n",
       "      <td>20138</td>\n",
       "      <td>9981407_gab</td>\n",
       "      <td>hatespeech</td>\n",
       "      <td>Jewish</td>\n",
       "      <td>['&lt;user&gt;', 'congrats', 'on', 'making', 'the', ...</td>\n",
       "      <td>&lt;user&gt; congrats on making the kike hate list w...</td>\n",
       "      <td>6_kike_you_the_to</td>\n",
       "      <td>1</td>\n",
       "    </tr>\n",
       "  </tbody>\n",
       "</table>\n",
       "<p>4812 rows × 8 columns</p>\n",
       "</div>"
      ],
      "text/plain": [
       "      index    Unnamed: 0       label   target  \\\n",
       "2         5  13851720_gab  hatespeech   Jewish   \n",
       "3         6  24198545_gab  hatespeech  African   \n",
       "4         8  19679648_gab  hatespeech  African   \n",
       "5         9  15858421_gab  hatespeech  African   \n",
       "6        10  23844035_gab  hatespeech    Islam   \n",
       "...     ...           ...         ...      ...   \n",
       "6227  20122   9844694_gab  hatespeech   Jewish   \n",
       "6228  20123   9845733_gab  hatespeech   Jewish   \n",
       "6229  20128   9867117_gab  hatespeech    Islam   \n",
       "6230  20134   9875482_gab  hatespeech  African   \n",
       "6231  20138   9981407_gab  hatespeech   Jewish   \n",
       "\n",
       "                                                 tokens  \\\n",
       "2     ['laura', 'loomer', 'raped', 'me', 'while', 's...   \n",
       "3     ['and', 'this', 'is', 'why', 'i', 'end', 'up',...   \n",
       "4     ['guilty', 'until', 'proven', 'innocent', 'unl...   \n",
       "5     ['tired', 'i', 'can', 'not', 'support', 'abort...   \n",
       "6     ['<number>', '<number>', '<percent>', 'of', 'b...   \n",
       "...                                                 ...   \n",
       "6227  ['this', 'is', 'pretty', 'much', 'the', 'concl...   \n",
       "6228  ['do', 'not', 'for', 'get', 'my', 'followers',...   \n",
       "6229  ['well', 'my', 'dear', 'lgbtq', 'brothers', 'a...   \n",
       "6230  ['c', 'mon', 'men', 'charge', 'it', 'for', 'th...   \n",
       "6231  ['<user>', 'congrats', 'on', 'making', 'the', ...   \n",
       "\n",
       "                                                   text  \\\n",
       "2     laura loomer raped me while screaming at me in...   \n",
       "3     and this is why i end up with nigger trainee d...   \n",
       "4     guilty until proven innocent unless you are a ...   \n",
       "5     tired i can not support abortion from a moral ...   \n",
       "6     <number> <number> <percent> of brits think mul...   \n",
       "...                                                 ...   \n",
       "6227  this is pretty much the conclusion of the fran...   \n",
       "6228  do not for get my followers the jews have decl...   \n",
       "6229  well my dear lgbtq brothers and sisters i do n...   \n",
       "6230  c mon men charge it for the gays trannies musl...   \n",
       "6231  <user> congrats on making the kike hate list w...   \n",
       "\n",
       "                        topics  topic  \n",
       "2             -1_the_to_and_is      2  \n",
       "3     1_nigger_niggers_the_you      0  \n",
       "4         3_white_user_the_and      1  \n",
       "5       9_raped_user_women_and      0  \n",
       "6          0_muslim_the_to_and      2  \n",
       "...                        ...    ...  \n",
       "6227       2_jews_the_arabs_of      1  \n",
       "6228       2_jews_the_arabs_of      1  \n",
       "6229       0_muslim_the_to_and      2  \n",
       "6230       0_muslim_the_to_and      3  \n",
       "6231         6_kike_you_the_to      1  \n",
       "\n",
       "[4812 rows x 8 columns]"
      ]
     },
     "execution_count": 23,
     "metadata": {},
     "output_type": "execute_result"
    }
   ],
   "source": [
    "hate_df"
   ]
  },
  {
   "cell_type": "code",
   "execution_count": null,
   "metadata": {},
   "outputs": [],
   "source": [
    "import sweetviz as sv\n"
   ]
  },
  {
   "cell_type": "code",
   "execution_count": null,
   "metadata": {},
   "outputs": [
    {
     "name": "stderr",
     "output_type": "stream",
     "text": [
      "c:\\Users\\Administrator\\.conda\\envs\\py310\\lib\\site-packages\\sweetviz\\dataframe_report.py:74: FutureWarning: iteritems is deprecated and will be removed in a future version. Use .items instead.\n",
      "  all_source_names = [cur_name for cur_name, cur_series in source_df.iteritems()]\n",
      "c:\\Users\\Administrator\\.conda\\envs\\py310\\lib\\site-packages\\sweetviz\\dataframe_report.py:109: FutureWarning: iteritems is deprecated and will be removed in a future version. Use .items instead.\n",
      "  filtered_series_names_in_source = [cur_name for cur_name, cur_series in source_df.iteritems()\n"
     ]
    },
    {
     "data": {
      "application/vnd.jupyter.widget-view+json": {
       "model_id": "50b24c8ee8e64184851d315056d4fd22",
       "version_major": 2,
       "version_minor": 0
      },
      "text/plain": [
       "                                             |          | [  0%]   00:00 -> (? left)"
      ]
     },
     "metadata": {},
     "output_type": "display_data"
    },
    {
     "name": "stderr",
     "output_type": "stream",
     "text": [
      "c:\\Users\\Administrator\\.conda\\envs\\py310\\lib\\site-packages\\sweetviz\\series_analyzer_numeric.py:25: FutureWarning: The 'mad' method is deprecated and will be removed in a future version. To compute the same result, you may do `(df - df.mean()).abs().mean()`.\n",
      "  stats[\"mad\"] = series.mad()\n",
      "c:\\Users\\Administrator\\.conda\\envs\\py310\\lib\\site-packages\\sweetviz\\series_analyzer_numeric.py:25: FutureWarning: The 'mad' method is deprecated and will be removed in a future version. To compute the same result, you may do `(df - df.mean()).abs().mean()`.\n",
      "  stats[\"mad\"] = series.mad()\n",
      "c:\\Users\\Administrator\\.conda\\envs\\py310\\lib\\site-packages\\sweetviz\\series_analyzer_text.py:19: FutureWarning: iteritems is deprecated and will be removed in a future version. Use .items instead.\n",
      "  for item in to_process.source_counts[\"value_counts_without_nan\"].iteritems():\n",
      "c:\\Users\\Administrator\\.conda\\envs\\py310\\lib\\site-packages\\sweetviz\\series_analyzer_cat.py:28: FutureWarning: iteritems is deprecated and will be removed in a future version. Use .items instead.\n",
      "  for item in category_counts.iteritems():\n",
      "c:\\Users\\Administrator\\.conda\\envs\\py310\\lib\\site-packages\\sweetviz\\series_analyzer_cat.py:28: FutureWarning: iteritems is deprecated and will be removed in a future version. Use .items instead.\n",
      "  for item in category_counts.iteritems():\n",
      "c:\\Users\\Administrator\\.conda\\envs\\py310\\lib\\site-packages\\sweetviz\\series_analyzer_text.py:19: FutureWarning: iteritems is deprecated and will be removed in a future version. Use .items instead.\n",
      "  for item in to_process.source_counts[\"value_counts_without_nan\"].iteritems():\n",
      "c:\\Users\\Administrator\\.conda\\envs\\py310\\lib\\site-packages\\sweetviz\\series_analyzer_text.py:19: FutureWarning: iteritems is deprecated and will be removed in a future version. Use .items instead.\n",
      "  for item in to_process.source_counts[\"value_counts_without_nan\"].iteritems():\n"
     ]
    },
    {
     "data": {
      "text/plain": [
       "<sweetviz.dataframe_report.DataframeReport at 0x1c139bda7a0>"
      ]
     },
     "execution_count": 6,
     "metadata": {},
     "output_type": "execute_result"
    }
   ],
   "source": [
    "my_report = sv.analyze(hate_df)\n",
    "my_report"
   ]
  },
  {
   "cell_type": "code",
   "execution_count": null,
   "metadata": {},
   "outputs": [
    {
     "name": "stdout",
     "output_type": "stream",
     "text": [
      "Report SWEETVIZ_REPORT.html was generated! NOTEBOOK/COLAB USERS: the web browser MAY not pop up, regardless, the report IS saved in your notebook/colab files.\n"
     ]
    }
   ],
   "source": [
    "my_report.show_html()"
   ]
  },
  {
   "cell_type": "code",
   "execution_count": null,
   "metadata": {},
   "outputs": [],
   "source": []
  }
 ],
 "metadata": {
  "kernelspec": {
   "display_name": "bert2vec",
   "language": "python",
   "name": "bert2vec"
  },
  "language_info": {
   "codemirror_mode": {
    "name": "ipython",
    "version": 3
   },
   "file_extension": ".py",
   "mimetype": "text/x-python",
   "name": "python",
   "nbconvert_exporter": "python",
   "pygments_lexer": "ipython3",
   "version": "3.8.12"
  },
  "vscode": {
   "interpreter": {
    "hash": "2bf672514722649c087606e81e119605c1cc4764f9792a89fd7dcda5a6b35db6"
   }
  }
 },
 "nbformat": 4,
 "nbformat_minor": 4
}
