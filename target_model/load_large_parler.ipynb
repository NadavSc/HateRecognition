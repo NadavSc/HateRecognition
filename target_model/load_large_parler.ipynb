{
 "cells": [
  {
   "cell_type": "code",
   "execution_count": 1,
   "id": "1cf0d56c-f050-4bda-9266-4dc74e6b7333",
   "metadata": {},
   "outputs": [],
   "source": [
    "import pandas as pd\n",
    "import os"
   ]
  },
  {
   "cell_type": "code",
   "execution_count": 3,
   "id": "4acf7558-f4ef-47b4-bf48-51ec39d5abdc",
   "metadata": {},
   "outputs": [
    {
     "name": "stdout",
     "output_type": "stream",
     "text": [
      "parler_data000000000155.ndjson\n",
      "Unmatched ''\"' when when decoding 'string'\n",
      "parler_data000000000156.ndjson\n",
      "\"None of [Index(['id', 'body'], dtype='object')] are in the [columns]\"\n",
      "parler_data000000000157.ndjson\n",
      "\"None of [Index(['id', 'body'], dtype='object')] are in the [columns]\"\n",
      "parler_data000000000158.ndjson\n",
      "\"None of [Index(['id', 'body'], dtype='object')] are in the [columns]\"\n",
      "parler_data000000000159.ndjson\n",
      "\"None of [Index(['id', 'body'], dtype='object')] are in the [columns]\"\n",
      "parler_data000000000160.ndjson\n",
      "\"None of [Index(['id', 'body'], dtype='object')] are in the [columns]\"\n",
      "parler_data000000000161.ndjson\n",
      "\"None of [Index(['id', 'body'], dtype='object')] are in the [columns]\"\n",
      "parler_data000000000162.ndjson\n",
      "\"None of [Index(['id', 'body'], dtype='object')] are in the [columns]\"\n",
      "parler_data000000000163.ndjson\n",
      "\"None of [Index(['id', 'body'], dtype='object')] are in the [columns]\"\n",
      "parler_data000000000164.ndjson\n",
      "\"None of [Index(['id', 'body'], dtype='object')] are in the [columns]\"\n",
      "parler_data000000000165.ndjson\n",
      "\"None of [Index(['id', 'body'], dtype='object')] are in the [columns]\"\n",
      "parler_data000000000166.ndjson\n",
      "\"None of [Index(['id', 'body'], dtype='object')] are in the [columns]\"\n"
     ]
    }
   ],
   "source": [
    "dir_name = \"../data/large_parler/\"\n",
    "for file in os.listdir(dir_name):\n",
    "    if file.endswith('ndjson'):\n",
    "        print(file)\n",
    "        try:\n",
    "            df = pd.read_json(f\"{dir_name}/{file}\", lines=True)\n",
    "            df[['id','body']].to_csv(f\"{dir_name}/{file.strip('.ndjson')}.csv\")\n",
    "            os.remove(f\"{dir_name}/{file}\")\n",
    "        except Exception as e:\n",
    "            print(e)\n",
    "            continue"
   ]
  },
  {
   "cell_type": "code",
   "execution_count": null,
   "id": "a214a1c2-9996-4988-a4b0-1ef67554b9a5",
   "metadata": {},
   "outputs": [],
   "source": []
  }
 ],
 "metadata": {
  "kernelspec": {
   "display_name": "bert2vec",
   "language": "python",
   "name": "bert2vec"
  },
  "language_info": {
   "codemirror_mode": {
    "name": "ipython",
    "version": 3
   },
   "file_extension": ".py",
   "mimetype": "text/x-python",
   "name": "python",
   "nbconvert_exporter": "python",
   "pygments_lexer": "ipython3",
   "version": "3.8.12"
  }
 },
 "nbformat": 4,
 "nbformat_minor": 5
}
