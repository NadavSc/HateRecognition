{
 "cells": [
  {
   "cell_type": "code",
   "execution_count": 1,
   "metadata": {},
   "outputs": [],
   "source": [
    "\n",
    "import torch\n",
    "from torch.utils.data import TensorDataset, DataLoader, RandomSampler, SequentialSampler\n",
    "from transformers import BertTokenizer, BertForSequenceClassification, BertConfig\n",
    "from sklearn.model_selection import train_test_split\n",
    "from collections import Counter\n",
    "import pandas as pd\n",
    "import numpy as np\n",
    "import json\n",
    "from tabulate import tabulate\n",
    "from tqdm import trange\n",
    "import random\n",
    "import seaborn as sns\n",
    "from sklearn.metrics import classification_report, recall_score,precision_score , f1_score, accuracy_score\n",
    "import sys\n",
    "sys.path.append(\"HateRecognition/target_model/\")\n",
    "from utils import preprocessing, load_anno_data, data_loader, define_target, create_model\n",
    "from bertopic import BERTopic\n",
    "from TopicTuner.topictuner import TopicModelTuner as TMT\n",
    "from sklearn.feature_extraction.text import CountVectorizer\n",
    "from umap import UMAP\n",
    "from sklearn.model_selection import StratifiedKFold\n",
    "from hdbscan import HDBSCAN\n",
    "from sklearn.metrics import confusion_matrix\n"
   ]
  },
  {
   "cell_type": "code",
   "execution_count": 2,
   "metadata": {},
   "outputs": [],
   "source": [
    "device = torch.device('cuda' if torch.cuda.is_available() else 'cpu')"
   ]
  },
  {
   "cell_type": "code",
   "execution_count": 3,
   "metadata": {},
   "outputs": [
    {
     "data": {
      "text/html": [
       "<div>\n",
       "<style scoped>\n",
       "    .dataframe tbody tr th:only-of-type {\n",
       "        vertical-align: middle;\n",
       "    }\n",
       "\n",
       "    .dataframe tbody tr th {\n",
       "        vertical-align: top;\n",
       "    }\n",
       "\n",
       "    .dataframe thead th {\n",
       "        text-align: right;\n",
       "    }\n",
       "</style>\n",
       "<table border=\"1\" class=\"dataframe\">\n",
       "  <thead>\n",
       "    <tr style=\"text-align: right;\">\n",
       "      <th></th>\n",
       "      <th>id</th>\n",
       "      <th>text</th>\n",
       "      <th>label_mean</th>\n",
       "      <th>disputable_post</th>\n",
       "    </tr>\n",
       "  </thead>\n",
       "  <tbody>\n",
       "    <tr>\n",
       "      <th>0</th>\n",
       "      <td>a113a2d777ca4211ae97a193eee44dc1</td>\n",
       "      <td>Black men are taught that a word justifies all...</td>\n",
       "      <td>3.60</td>\n",
       "      <td>True</td>\n",
       "    </tr>\n",
       "    <tr>\n",
       "      <th>1</th>\n",
       "      <td>bb348c5f20a84be1bc3467d32312341c</td>\n",
       "      <td>Biden and his supporters are claiming that Bid...</td>\n",
       "      <td>4.00</td>\n",
       "      <td>True</td>\n",
       "    </tr>\n",
       "    <tr>\n",
       "      <th>2</th>\n",
       "      <td>39df38e04a44423f93ba1d1dc79070c9</td>\n",
       "      <td>Pelosi; âOne way or another Joe Biden will b...</td>\n",
       "      <td>1.25</td>\n",
       "      <td>False</td>\n",
       "    </tr>\n",
       "    <tr>\n",
       "      <th>3</th>\n",
       "      <td>68dd325894274be79f73767e92e64702</td>\n",
       "      <td>Northern California Declares Independence From...</td>\n",
       "      <td>3.00</td>\n",
       "      <td>True</td>\n",
       "    </tr>\n",
       "    <tr>\n",
       "      <th>4</th>\n",
       "      <td>9503e349140b4bbe9e496f4c0f15f830</td>\n",
       "      <td>Whistleblower claims top DHS officials sought ...</td>\n",
       "      <td>1.50</td>\n",
       "      <td>False</td>\n",
       "    </tr>\n",
       "    <tr>\n",
       "      <th>...</th>\n",
       "      <td>...</td>\n",
       "      <td>...</td>\n",
       "      <td>...</td>\n",
       "      <td>...</td>\n",
       "    </tr>\n",
       "    <tr>\n",
       "      <th>10116</th>\n",
       "      <td>bd2e05ec9a7942b78fbedab3d75d1079</td>\n",
       "      <td>Minneapolis City Council Votes To Eliminate Po...</td>\n",
       "      <td>1.00</td>\n",
       "      <td>False</td>\n",
       "    </tr>\n",
       "    <tr>\n",
       "      <th>10117</th>\n",
       "      <td>23ce3d9f0f09448abe4665b93dab2aef</td>\n",
       "      <td>And just like that facebook is gone</td>\n",
       "      <td>1.00</td>\n",
       "      <td>False</td>\n",
       "    </tr>\n",
       "    <tr>\n",
       "      <th>10118</th>\n",
       "      <td>163f0fad195c4cb58ef31920921a1ab9</td>\n",
       "      <td>Obama Says He Will Campaign For Biden If He Ca...</td>\n",
       "      <td>1.00</td>\n",
       "      <td>False</td>\n",
       "    </tr>\n",
       "    <tr>\n",
       "      <th>10119</th>\n",
       "      <td>ca70cdcc29084720990fc21ca6a3e31d</td>\n",
       "      <td>Shoup Voting Machine</td>\n",
       "      <td>1.00</td>\n",
       "      <td>False</td>\n",
       "    </tr>\n",
       "    <tr>\n",
       "      <th>10120</th>\n",
       "      <td>82f4a352d8f94762adf8d33593f42f6a</td>\n",
       "      <td>Iranian official accuses Israel of using 'elec...</td>\n",
       "      <td>1.50</td>\n",
       "      <td>False</td>\n",
       "    </tr>\n",
       "  </tbody>\n",
       "</table>\n",
       "<p>10121 rows × 4 columns</p>\n",
       "</div>"
      ],
      "text/plain": [
       "                                     id  \\\n",
       "0      a113a2d777ca4211ae97a193eee44dc1   \n",
       "1      bb348c5f20a84be1bc3467d32312341c   \n",
       "2      39df38e04a44423f93ba1d1dc79070c9   \n",
       "3      68dd325894274be79f73767e92e64702   \n",
       "4      9503e349140b4bbe9e496f4c0f15f830   \n",
       "...                                 ...   \n",
       "10116  bd2e05ec9a7942b78fbedab3d75d1079   \n",
       "10117  23ce3d9f0f09448abe4665b93dab2aef   \n",
       "10118  163f0fad195c4cb58ef31920921a1ab9   \n",
       "10119  ca70cdcc29084720990fc21ca6a3e31d   \n",
       "10120  82f4a352d8f94762adf8d33593f42f6a   \n",
       "\n",
       "                                                    text  label_mean  \\\n",
       "0      Black men are taught that a word justifies all...        3.60   \n",
       "1      Biden and his supporters are claiming that Bid...        4.00   \n",
       "2      Pelosi; âOne way or another Joe Biden will b...        1.25   \n",
       "3      Northern California Declares Independence From...        3.00   \n",
       "4      Whistleblower claims top DHS officials sought ...        1.50   \n",
       "...                                                  ...         ...   \n",
       "10116  Minneapolis City Council Votes To Eliminate Po...        1.00   \n",
       "10117                And just like that facebook is gone        1.00   \n",
       "10118  Obama Says He Will Campaign For Biden If He Ca...        1.00   \n",
       "10119                               Shoup Voting Machine        1.00   \n",
       "10120  Iranian official accuses Israel of using 'elec...        1.50   \n",
       "\n",
       "       disputable_post  \n",
       "0                 True  \n",
       "1                 True  \n",
       "2                False  \n",
       "3                 True  \n",
       "4                False  \n",
       "...                ...  \n",
       "10116            False  \n",
       "10117            False  \n",
       "10118            False  \n",
       "10119            False  \n",
       "10120            False  \n",
       "\n",
       "[10121 rows x 4 columns]"
      ]
     },
     "execution_count": 3,
     "metadata": {},
     "output_type": "execute_result"
    }
   ],
   "source": [
    "sys.path.append(\"./HateRecognition/data/\")\n",
    "df = pd.read_csv(r'./HateRecognition/data/parler_annotated_data.csv')\n",
    "df"
   ]
  },
  {
   "cell_type": "code",
   "execution_count": 4,
   "metadata": {},
   "outputs": [
    {
     "data": {
      "text/plain": [
       "<spacy_langdetect.spacy_langdetect.LanguageDetector at 0x7fec538254f0>"
      ]
     },
     "execution_count": 4,
     "metadata": {},
     "output_type": "execute_result"
    }
   ],
   "source": [
    "import spacy\n",
    "from spacy.language import Language\n",
    "from spacy_langdetect import LanguageDetector\n",
    "\n",
    "def get_lang_detector(nlp, name):\n",
    "    return LanguageDetector()\n",
    "\n",
    "nlp = spacy.load(\"en_core_web_sm\")\n",
    "Language.factory(\"language_detector\", func=get_lang_detector)\n",
    "nlp.add_pipe('language_detector', last=True)\n",
    "# text = 'This is an english text.'\n",
    "# doc = nlp(text)\n",
    "# print(doc._.language)"
   ]
  },
  {
   "cell_type": "code",
   "execution_count": 5,
   "metadata": {},
   "outputs": [
    {
     "data": {
      "text/plain": [
       "0        en\n",
       "1        en\n",
       "2        en\n",
       "3        en\n",
       "4        en\n",
       "         ..\n",
       "10116    en\n",
       "10117    en\n",
       "10118    en\n",
       "10119    en\n",
       "10120    en\n",
       "Name: lang, Length: 10121, dtype: object"
      ]
     },
     "execution_count": 5,
     "metadata": {},
     "output_type": "execute_result"
    }
   ],
   "source": [
    "df['lang'] = df.text.apply(lambda x: nlp(x)._.language['language'])\n",
    "df['lang']"
   ]
  },
  {
   "cell_type": "code",
   "execution_count": 6,
   "metadata": {},
   "outputs": [],
   "source": [
    "df = df[df['lang']=='en']"
   ]
  },
  {
   "cell_type": "code",
   "execution_count": 7,
   "metadata": {},
   "outputs": [],
   "source": [
    "hate_df = pd.read_csv(r'./HateRecognition/data/filtered_hatexplain_data.csv')"
   ]
  },
  {
   "cell_type": "code",
   "execution_count": 8,
   "metadata": {},
   "outputs": [
    {
     "name": "stdout",
     "output_type": "stream",
     "text": [
      "Tue Jan 24 16:35:45 2023 Building and compiling search function\n"
     ]
    }
   ],
   "source": [
    "topic_model = BERTopic.load('./HateRecognition/target_model/topic_model')\n",
    "# topics, probs = topic_model.fit_transform(hate_df.text)"
   ]
  },
  {
   "cell_type": "code",
   "execution_count": 9,
   "metadata": {},
   "outputs": [
    {
     "data": {
      "application/vnd.jupyter.widget-view+json": {
       "model_id": "0efe8366ea1040278efc142167c65d50",
       "version_major": 2,
       "version_minor": 0
      },
      "text/plain": [
       "Epochs completed:   0%|            0/30 [00:00]"
      ]
     },
     "metadata": {},
     "output_type": "display_data"
    }
   ],
   "source": [
    "topics, probs = topic_model.transform(df.text.values.tolist())"
   ]
  },
  {
   "cell_type": "code",
   "execution_count": 10,
   "metadata": {},
   "outputs": [
    {
     "data": {
      "text/plain": [
       "0        0_nigger_white_niggers_number\n",
       "1         2_moslem_muslim_number_islam\n",
       "2           -1_coons_anglin_coon_giant\n",
       "3        3_faggots_faggot_queers_dykes\n",
       "4        0_nigger_white_niggers_number\n",
       "                     ...              \n",
       "10116    0_nigger_white_niggers_number\n",
       "10117     2_moslem_muslim_number_islam\n",
       "10118     2_moslem_muslim_number_islam\n",
       "10119    0_nigger_white_niggers_number\n",
       "10120            1_kike_jews_jew_white\n",
       "Name: topics, Length: 10029, dtype: object"
      ]
     },
     "execution_count": 10,
     "metadata": {},
     "output_type": "execute_result"
    }
   ],
   "source": [
    "df['topics'] = [topic_model.topic_names[x] for x in topics]\n",
    "df['topics'] "
   ]
  },
  {
   "cell_type": "code",
   "execution_count": 11,
   "metadata": {},
   "outputs": [
    {
     "data": {
      "text/plain": [
       "<AxesSubplot:>"
      ]
     },
     "execution_count": 11,
     "metadata": {},
     "output_type": "execute_result"
    },
    {
     "data": {
      "image/png": "[encoded data removed]",
      "text/plain": [
       "<Figure size 2000x1000 with 1 Axes>"
      ]
     },
     "metadata": {},
     "output_type": "display_data"
    }
   ],
   "source": [
    "df['topics'].hist(figsize=(20,10),bins=20)"
   ]
  },
  {
   "cell_type": "code",
   "execution_count": 12,
   "metadata": {},
   "outputs": [
    {
     "name": "stderr",
     "output_type": "stream",
     "text": [
      "Some weights of the model checkpoint at bert-base-uncased were not used when initializing BertForSequenceClassification: ['cls.predictions.transform.LayerNorm.weight', 'cls.predictions.transform.LayerNorm.bias', 'cls.predictions.transform.dense.bias', 'cls.predictions.transform.dense.weight', 'cls.predictions.bias', 'cls.seq_relationship.weight', 'cls.seq_relationship.bias', 'cls.predictions.decoder.weight']\n",
      "- This IS expected if you are initializing BertForSequenceClassification from the checkpoint of a model trained on another task or with another architecture (e.g. initializing a BertForSequenceClassification model from a BertForPreTraining model).\n",
      "- This IS NOT expected if you are initializing BertForSequenceClassification from the checkpoint of a model that you expect to be exactly identical (initializing a BertForSequenceClassification model from a BertForSequenceClassification model).\n",
      "Some weights of BertForSequenceClassification were not initialized from the model checkpoint at bert-base-uncased and are newly initialized: ['classifier.bias', 'classifier.weight']\n",
      "You should probably TRAIN this model on a down-stream task to be able to use it for predictions and inference.\n"
     ]
    },
    {
     "data": {
      "text/plain": [
       "<All keys matched successfully>"
      ]
     },
     "execution_count": 12,
     "metadata": {},
     "output_type": "execute_result"
    }
   ],
   "source": [
    "model = BertForSequenceClassification.from_pretrained(\n",
    "    'bert-base-uncased',\n",
    "    num_labels = 4,\n",
    "    output_attentions = False,\n",
    "    output_hidden_states = False,\n",
    "    hidden_act ='relu',\n",
    "    classifier_dropout =0.3\n",
    "    \n",
    ")\n",
    "model.load_state_dict(state_dict=torch.load('fine_tuned_with_topic'))"
   ]
  },
  {
   "cell_type": "code",
   "execution_count": 13,
   "metadata": {},
   "outputs": [],
   "source": [
    "tokenizer = BertTokenizer.from_pretrained(\n",
    "    'bert-base-uncased',\n",
    "    do_lower_case = True,\n",
    "    truncation=True\n",
    "    )"
   ]
  },
  {
   "cell_type": "code",
   "execution_count": 14,
   "metadata": {},
   "outputs": [
    {
     "name": "stdout",
     "output_type": "stream",
     "text": [
      "195\n"
     ]
    }
   ],
   "source": [
    "token_id = []\n",
    "attention_masks = []\n",
    "text = df.text.values.tolist()\n",
    "with_topic=True\n",
    "MAX_LEN = max([len(x.split()) for x in text])\n",
    "print(MAX_LEN)\n",
    "for i, sample in enumerate(text):\n",
    "  topic_name = None\n",
    "  if with_topic:\n",
    "    topic_id = topics[i]\n",
    "    topic_name = topic_model.topic_names[topic_id]\n",
    "    topic_name = ' '.join(topic_name.split('_')[1:])\n",
    "  encoding_dict = preprocessing(sample,tokenizer, MAX_LEN, topic_name)\n",
    "  token_id.append(encoding_dict['input_ids']) \n",
    "  attention_masks.append(encoding_dict['attention_mask'])\n",
    "\n",
    "\n",
    "token_id = torch.cat(token_id, dim = 0)\n",
    "attention_masks = torch.cat(attention_masks, dim = 0)"
   ]
  },
  {
   "cell_type": "code",
   "execution_count": 15,
   "metadata": {},
   "outputs": [],
   "source": [
    "\n",
    "batch_size = 16\n"
   ]
  },
  {
   "cell_type": "code",
   "execution_count": 19,
   "metadata": {},
   "outputs": [],
   "source": [
    "train_set = TensorDataset(token_id, \n",
    "                              attention_masks)\n",
    "\n",
    "data = DataLoader(\n",
    "                train_set,\n",
    "                sampler = SequentialSampler(train_set),\n",
    "                batch_size = batch_size\n",
    "            )"
   ]
  },
  {
   "cell_type": "code",
   "execution_count": 20,
   "metadata": {},
   "outputs": [],
   "source": [
    "import gc\n",
    "torch.cuda.empty_cache()\n",
    "gc.collect()\n",
    "model.to('cuda')\n",
    "pred_labels = []\n",
    "for batch in data:\n",
    "        batch = tuple(t.to(device) for t in batch)\n",
    "        b_input_ids, b_input_mask = batch\n",
    "        eval_output = model(b_input_ids, \n",
    "                            token_type_ids = None, \n",
    "                            attention_mask = b_input_mask)\n",
    "        preds = torch.argmax(eval_output.logits, dim=1)\n",
    "        pred_labels.extend(preds.cpu().numpy())"
   ]
  },
  {
   "cell_type": "code",
   "execution_count": 25,
   "metadata": {},
   "outputs": [],
   "source": [
    "labl_dict = {0:'African', 1:'Homosexual', 2:'Islam', 3:'Jewish'}"
   ]
  },
  {
   "cell_type": "code",
   "execution_count": null,
   "metadata": {},
   "outputs": [],
   "source": []
  },
  {
   "cell_type": "code",
   "execution_count": 26,
   "metadata": {},
   "outputs": [
    {
     "data": {
      "text/plain": [
       "0           African\n",
       "1             Islam\n",
       "2           African\n",
       "3        Homosexual\n",
       "4           African\n",
       "            ...    \n",
       "10116       African\n",
       "10117         Islam\n",
       "10118        Jewish\n",
       "10119       African\n",
       "10120        Jewish\n",
       "Name: pred, Length: 10029, dtype: object"
      ]
     },
     "execution_count": 26,
     "metadata": {},
     "output_type": "execute_result"
    }
   ],
   "source": [
    "df['pred'] = [labl_dict[x] for x in pred_labels]\n",
    "df['pred'] "
   ]
  },
  {
   "cell_type": "code",
   "execution_count": 28,
   "metadata": {},
   "outputs": [
    {
     "data": {
      "text/plain": [
       "<AxesSubplot:>"
      ]
     },
     "execution_count": 28,
     "metadata": {},
     "output_type": "execute_result"
    },
    {
     "data": {
      "image/png": "[encoded data removed]",
      "text/plain": [
       "<Figure size 2000x1000 with 1 Axes>"
      ]
     },
     "metadata": {},
     "output_type": "display_data"
    }
   ],
   "source": [
    "df['pred'].hist(figsize=(20,10),bins=20)"
   ]
  },
  {
   "cell_type": "code",
   "execution_count": 50,
   "metadata": {},
   "outputs": [],
   "source": [
    "g_hate_df = df.groupby(['topics', 'pred']).count()['text'].reset_index()\n",
    "p_g_hate_df = g_hate_df.pivot_table(columns=g_hate_df.topics, index=g_hate_df.pred)\n",
    "p_g_hate_df.columns = p_g_hate_df.columns.droplevel(0)\n",
    "p_g_hate_df = p_g_hate_df.reindex(['African', 'Jewish','Islam' , 'Homosexual'])\n",
    "n_p_g_hate_df = p_g_hate_df.apply(lambda x: x/x.sum(), axis=1).drop(columns=['-1_coons_anglin_coon_giant'])"
   ]
  },
  {
   "cell_type": "code",
   "execution_count": 51,
   "metadata": {},
   "outputs": [
    {
     "data": {
      "text/plain": [
       "<AxesSubplot:xlabel='topics', ylabel='pred'>"
      ]
     },
     "execution_count": 51,
     "metadata": {},
     "output_type": "execute_result"
    },
    {
     "data": {
      "image/png": "[encoded data removed]",
      "text/plain": [
       "<Figure size 640x480 with 2 Axes>"
      ]
     },
     "metadata": {},
     "output_type": "display_data"
    }
   ],
   "source": [
    "import seaborn as sns\n",
    "sns.heatmap(n_p_g_hate_df, annot=True)"
   ]
  },
  {
   "cell_type": "code",
   "execution_count": 42,
   "metadata": {},
   "outputs": [
    {
     "data": {
      "text/html": [
       "<div>\n",
       "<style scoped>\n",
       "    .dataframe tbody tr th:only-of-type {\n",
       "        vertical-align: middle;\n",
       "    }\n",
       "\n",
       "    .dataframe tbody tr th {\n",
       "        vertical-align: top;\n",
       "    }\n",
       "\n",
       "    .dataframe thead th {\n",
       "        text-align: right;\n",
       "    }\n",
       "</style>\n",
       "<table border=\"1\" class=\"dataframe\">\n",
       "  <thead>\n",
       "    <tr style=\"text-align: right;\">\n",
       "      <th></th>\n",
       "      <th>0_nigger_white_niggers_number</th>\n",
       "      <th>2_moslem_muslim_number_islam</th>\n",
       "      <th>3_faggots_faggot_queers_dykes</th>\n",
       "      <th>1_kike_jews_jew_white</th>\n",
       "    </tr>\n",
       "  </thead>\n",
       "  <tbody>\n",
       "    <tr>\n",
       "      <th>African</th>\n",
       "      <td>0</td>\n",
       "      <td>0</td>\n",
       "      <td>0</td>\n",
       "      <td>0</td>\n",
       "    </tr>\n",
       "    <tr>\n",
       "      <th>Homosexual</th>\n",
       "      <td>0</td>\n",
       "      <td>0</td>\n",
       "      <td>0</td>\n",
       "      <td>0</td>\n",
       "    </tr>\n",
       "    <tr>\n",
       "      <th>Islam</th>\n",
       "      <td>0</td>\n",
       "      <td>0</td>\n",
       "      <td>0</td>\n",
       "      <td>0</td>\n",
       "    </tr>\n",
       "    <tr>\n",
       "      <th>Jewish</th>\n",
       "      <td>0</td>\n",
       "      <td>0</td>\n",
       "      <td>0</td>\n",
       "      <td>0</td>\n",
       "    </tr>\n",
       "  </tbody>\n",
       "</table>\n",
       "</div>"
      ],
      "text/plain": [
       "            0_nigger_white_niggers_number  2_moslem_muslim_number_islam  \\\n",
       "African                                 0                             0   \n",
       "Homosexual                              0                             0   \n",
       "Islam                                   0                             0   \n",
       "Jewish                                  0                             0   \n",
       "\n",
       "            3_faggots_faggot_queers_dykes  1_kike_jews_jew_white  \n",
       "African                                 0                      0  \n",
       "Homosexual                              0                      0  \n",
       "Islam                                   0                      0  \n",
       "Jewish                                  0                      0  "
      ]
     },
     "execution_count": 42,
     "metadata": {},
     "output_type": "execute_result"
    }
   ],
   "source": [
    "cf_matrix"
   ]
  },
  {
   "cell_type": "code",
   "execution_count": null,
   "metadata": {},
   "outputs": [],
   "source": []
  }
 ],
 "metadata": {
  "kernelspec": {
   "display_name": "bert2vec",
   "language": "python",
   "name": "bert2vec"
  },
  "language_info": {
   "codemirror_mode": {
    "name": "ipython",
    "version": 3
   },
   "file_extension": ".py",
   "mimetype": "text/x-python",
   "name": "python",
   "nbconvert_exporter": "python",
   "pygments_lexer": "ipython3",
   "version": "3.8.12"
  },
  "orig_nbformat": 4,
  "vscode": {
   "interpreter": {
    "hash": "2bf672514722649c087606e81e119605c1cc4764f9792a89fd7dcda5a6b35db6"
   }
  }
 },
 "nbformat": 4,
 "nbformat_minor": 2
}
